{
 "cells": [
  {
   "cell_type": "markdown",
   "metadata": {},
   "source": [
    "#### Preamble\n",
    "\n",
    "Use the environment `shrec`"
   ]
  },
  {
   "cell_type": "code",
   "execution_count": 2,
   "metadata": {},
   "outputs": [],
   "source": [
    "%matplotlib inline\n",
    "\n",
    "import matplotlib.pyplot as plt\n",
    "import numpy as np\n",
    "\n",
    "import matplotlib.pyplot as plt\n",
    "plt.rcParams.update(plt.rcParamsDefault)\n",
    "%matplotlib inline"
   ]
  },
  {
   "cell_type": "markdown",
   "metadata": {},
   "source": [
    "### Benchmark against the ARACNE Algorithm\n"
   ]
  },
  {
   "cell_type": "code",
   "execution_count": 112,
   "metadata": {},
   "outputs": [
    {
     "data": {
      "text/plain": [
       "<matplotlib.image.AxesImage at 0x17efe3790>"
      ]
     },
     "execution_count": 112,
     "metadata": {},
     "output_type": "execute_result"
    },
    {
     "data": {
      "image/png": "[encoded data removed]",
      "text/plain": [
       "<Figure size 640x480 with 1 Axes>"
      ]
     },
     "metadata": {},
     "output_type": "display_data"
    }
   ],
   "source": [
    "import numpy as np\n",
    "from scipy.stats import gaussian_kde\n",
    "from sklearn.preprocessing import StandardScaler\n",
    "\n",
    "class ARACNE:\n",
    "    \"\"\"\n",
    "    Optimized ARACNE algorithm for inferring gene regulatory networks.\n",
    "\n",
    "    The approach here is based on the existing open-source implementation:\n",
    "    https://github.com/rugrag/ARACNE-gene-network-inference\n",
    "    However, it has been modified to use vectorized operations and faster KDE\n",
    "    \"\"\"\n",
    "    def __init__(self, n_permutations=5, random_state=None):\n",
    "        self.n_permutations = n_permutations\n",
    "        self.random_state = random_state\n",
    "        np.random.seed(self.random_state)\n",
    "\n",
    "    def p_kde(self, x, X, h):\n",
    "        kde = gaussian_kde(X, bw_method=h)\n",
    "        return kde(x)[0]\n",
    "\n",
    "    def kernel_mi(self, X, Y):\n",
    "        d = 2\n",
    "        nx = len(X)\n",
    "        hx = (4 / (d + 2)) ** (1 / (d + 4)) * nx ** (-1 / (d + 4))\n",
    "\n",
    "        # Compute KDE for X, Y, and their joint distribution\n",
    "        px = np.array([self.p_kde(X[i], X, hx) for i in range(nx)])\n",
    "        py = np.array([self.p_kde(Y[i], Y, hx) for i in range(nx)])\n",
    "        joint_data = np.vstack((X, Y))\n",
    "        pxy = np.array([self.p_kde(np.array([X[i], Y[i]]), joint_data, hx) for i in range(nx)])\n",
    "\n",
    "        # Calculate mutual information\n",
    "        mi_estimation = np.log(pxy / (px * py))\n",
    "        return np.mean(mi_estimation)\n",
    "    \n",
    "    def kernel_mi(self, X, Y):\n",
    "        d = 2\n",
    "        nx = len(X)\n",
    "        hx = (4 / (d + 2)) ** (1 / (d + 4)) * nx ** (-1 / (d + 4))\n",
    "\n",
    "        # Compute KDE for X, Y, and their joint distribution\n",
    "        kde_X = gaussian_kde(X, bw_method=hx)\n",
    "        px = kde_X(X)\n",
    "        kde_Y = gaussian_kde(Y, bw_method=hx)\n",
    "        py = kde_Y(Y)\n",
    "        joint_data = np.array([X, Y])\n",
    "        kde_joint = gaussian_kde(joint_data, bw_method=hx)\n",
    "        pxy = kde_joint(joint_data)\n",
    "\n",
    "        # Calculate mutual information\n",
    "        mi_estimation = np.log(pxy / (px * py))\n",
    "        return np.mean(mi_estimation)\n",
    "\n",
    "    def calc_matMI(self, X):\n",
    "        d = X.shape[1]\n",
    "        matMI = np.zeros((d, d))\n",
    "        for ix in np.arange(d):\n",
    "            for jx in np.arange(ix+1, d):\n",
    "                matMI[ix,jx] = self.kernel_mi(X[:, ix], X[:, jx])\n",
    "        return matMI\n",
    "\n",
    "    def permutation_test(self):\n",
    "        matMI_perm = np.zeros((self.n_permutations, self.n_genes, self.n_genes))\n",
    "        for n in range(self.n_permutations):\n",
    "            shuffled_X = np.apply_along_axis(np.random.permutation, 1, self.count_matrix)\n",
    "            matMI_perm[n, :, :] = self.calc_matMI(shuffled_X)\n",
    "        return np.mean(matMI_perm, axis=0)\n",
    "\n",
    "    def filter_mi(self):\n",
    "        matMI_filtered = np.copy(self.matMI)\n",
    "        I_0 = np.amax(self.matMI_alternative)\n",
    "        matMI_filtered[matMI_filtered < I_0] = 0\n",
    "        return matMI_filtered\n",
    "\n",
    "    def data_processing_inequality(self, M, i, j, k):\n",
    "        dic = {0: (i, j), 1: (i, k), 2: (j, k)}\n",
    "        dpi_list = [M[i, j], M[i, k], M[j, k]]\n",
    "        idx = np.argmin(dpi_list)\n",
    "        return dic[idx]\n",
    "\n",
    "    def filter_loops(self, M):\n",
    "        set_to_zero = []\n",
    "        for i in range(M.shape[0]):\n",
    "            idx_j = np.where(M[i] != 0)[0]  # Indices where M[i] is non-zero\n",
    "            for j in idx_j:\n",
    "                idx_k = np.where(M[j] != 0)[0]  # Indices where M[j] is non-zero\n",
    "                valid_k = idx_k[M[i, idx_k] != 0]\n",
    "                if valid_k.size > 0:\n",
    "                    set_to_zero.extend([self.data_processing_inequality(M, i, j, k) for k in valid_k])\n",
    "\n",
    "        if set_to_zero:\n",
    "            set_to_zero = np.array(set_to_zero).T\n",
    "            M[tuple(set_to_zero)] = 0\n",
    "        \n",
    "        return M\n",
    "\n",
    "    def fit_transform(self, count_matrix):\n",
    "        self.count_matrix = count_matrix\n",
    "        self.n_samples, self.n_genes = count_matrix.shape\n",
    "        \n",
    "        # Standardize the input matrix\n",
    "        scaler = StandardScaler()\n",
    "        count_matrix = scaler.fit_transform(count_matrix)\n",
    "        \n",
    "        # Calculate MI matrix\n",
    "        self.matMI = self.calc_matMI(count_matrix)\n",
    "        \n",
    "        # Perform permutation test\n",
    "        self.matMI_alternative = self.permutation_test()\n",
    "        \n",
    "        # Filter MI matrix\n",
    "        self.matMI_filtered = self.filter_mi()\n",
    "        \n",
    "        # Apply Data Processing Inequality (DPI)\n",
    "        self.network = self.filter_loops(self.matMI_filtered)\n",
    "        \n",
    "        return self.network\n",
    "    \n",
    "aracne = ARACNE(n_permutations=5, random_state=0)\n",
    "\n",
    "np.random.seed(1)\n",
    "X = np.random.rand(100, 10)\n",
    "X0 = np.copy(X)\n",
    "network = aracne.fit_transform(X)\n",
    "plt.imshow(network)"
   ]
  },
  {
   "cell_type": "code",
   "execution_count": 121,
   "metadata": {},
   "outputs": [],
   "source": [
    "import glob\n",
    "all_datasets = sorted(glob.glob(\"data/combination_regulation/*\"))\n",
    "all_seed_vals = [int(x.split(\"_\")[-1].split(\".\")[0]) for x in all_datasets]\n",
    "\n",
    "for seed_val in all_seed_vals[-100:]:\n",
    "\n",
    "    ## Load the dataset, the true driver, and the indices into the original regulatory network\n",
    "    y_driver = np.load(f\"data/combination_regulation/y_driver_{seed_val}.npy\", allow_pickle=True)\n",
    "    X_measure = np.load(f\"data/combination_regulation/X_measure_{seed_val}.npy\", allow_pickle=True)\n",
    "    true_indices = np.load(f\"data/combination_regulation/simplex_indices_{seed_val}.npy\", allow_pickle=True)[1:]\n",
    "\n",
    "    aracne = ARACNE(n_permutations=5, random_state=0)\n",
    "\n",
    "    network = aracne.fit_transform(X)\n",
    "\n",
    "    top_indices = np.argsort(np.sum(np.abs(network), axis=1))[::-1]\n",
    "\n",
    "    # save indices to text file\n",
    "    np.savetxt(f\"./dump_results/aracne_output/indices_{seed_val}.txt\", top_indices, fmt=\"%d\")\n",
    "\n",
    "    \n"
   ]
  },
  {
   "cell_type": "code",
   "execution_count": 120,
   "metadata": {},
   "outputs": [
    {
     "data": {
      "text/plain": [
       "array([4, 6])"
      ]
     },
     "execution_count": 120,
     "metadata": {},
     "output_type": "execute_result"
    }
   ],
   "source": []
  },
  {
   "cell_type": "code",
   "execution_count": 115,
   "metadata": {},
   "outputs": [
    {
     "data": {
      "text/plain": [
       "array([[0.        , 0.        , 0.        , 0.        , 0.        ,\n",
       "        0.        , 0.        , 0.        , 0.        , 0.        ],\n",
       "       [0.        , 0.        , 0.07134933, 0.        , 0.07158019,\n",
       "        0.        , 0.        , 0.        , 0.        , 0.        ],\n",
       "       [0.        , 0.        , 0.        , 0.        , 0.        ,\n",
       "        0.        , 0.        , 0.        , 0.06941146, 0.        ],\n",
       "       [0.        , 0.        , 0.        , 0.        , 0.        ,\n",
       "        0.        , 0.        , 0.        , 0.        , 0.        ],\n",
       "       [0.        , 0.        , 0.        , 0.        , 0.        ,\n",
       "        0.        , 0.        , 0.0818744 , 0.        , 0.07124266],\n",
       "       [0.        , 0.        , 0.        , 0.        , 0.        ,\n",
       "        0.        , 0.        , 0.        , 0.        , 0.10173282],\n",
       "       [0.        , 0.        , 0.        , 0.        , 0.        ,\n",
       "        0.        , 0.        , 0.        , 0.06848928, 0.08467543],\n",
       "       [0.        , 0.        , 0.        , 0.        , 0.        ,\n",
       "        0.        , 0.        , 0.        , 0.07659327, 0.        ],\n",
       "       [0.        , 0.        , 0.        , 0.        , 0.        ,\n",
       "        0.        , 0.        , 0.        , 0.        , 0.        ],\n",
       "       [0.        , 0.        , 0.        , 0.        , 0.        ,\n",
       "        0.        , 0.        , 0.        , 0.        , 0.        ]])"
      ]
     },
     "execution_count": 115,
     "metadata": {},
     "output_type": "execute_result"
    }
   ],
   "source": [
    "# find the indices of the top value in the matrix network\n",
    "top_ind = np.unravel_index(np.argmax(network, axis=None), network.shape)"
   ]
  },
  {
   "cell_type": "code",
   "execution_count": null,
   "metadata": {},
   "outputs": [],
   "source": []
  },
  {
   "cell_type": "code",
   "execution_count": null,
   "metadata": {},
   "outputs": [],
   "source": []
  },
  {
   "cell_type": "code",
   "execution_count": null,
   "metadata": {},
   "outputs": [],
   "source": []
  },
  {
   "cell_type": "code",
   "execution_count": null,
   "metadata": {},
   "outputs": [],
   "source": []
  }
 ],
 "metadata": {
  "kernelspec": {
   "display_name": "Python 3.10.4 ('shrec2')",
   "language": "python",
   "name": "python3"
  },
  "language_info": {
   "codemirror_mode": {
    "name": "ipython",
    "version": 3
   },
   "file_extension": ".py",
   "mimetype": "text/x-python",
   "name": "python",
   "nbconvert_exporter": "python",
   "pygments_lexer": "ipython3",
   "version": "3.11.5"
  },
  "orig_nbformat": 4,
  "vscode": {
   "interpreter": {
    "hash": "e6225c57107570fd6f8cc9d77f9cc493b42f871d2f9e87a02ce72bc3dd2bd7fd"
   }
  }
 },
 "nbformat": 4,
 "nbformat_minor": 2
}
