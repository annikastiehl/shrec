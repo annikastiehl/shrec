{
 "cells": [
  {
   "cell_type": "markdown",
   "metadata": {},
   "source": [
    "#### Preamble and basic imports\n",
    "\n",
    "Note that this notebook depends on an external library, [dysts](https://github.com/williamgilpin/dysts), which contains implementations of more than one hundred different chaotic dynamical systems"
   ]
  },
  {
   "cell_type": "code",
   "execution_count": 99,
   "metadata": {},
   "outputs": [
    {
     "name": "stdout",
     "output_type": "stream",
     "text": [
      "The autoreload extension is already loaded. To reload it, use:\n",
      "  %reload_ext autoreload\n"
     ]
    }
   ],
   "source": [
    "%matplotlib inline\n",
    "\n",
    "import matplotlib.pyplot as plt\n",
    "import numpy as np\n",
    "# from numba import jit\n",
    "\n",
    "from utils import *\n",
    "#from benchmark_utils import print_dict, score_ts\n",
    "\n",
    "from models import *\n",
    "\n",
    "\n",
    "%load_ext autoreload\n",
    "%autoreload 2"
   ]
  },
  {
   "cell_type": "code",
   "execution_count": 4,
   "metadata": {},
   "outputs": [
    {
     "ename": "NameError",
     "evalue": "name 'solve_ivp' is not defined",
     "output_type": "error",
     "traceback": [
      "\u001b[0;31m---------------------------------------------------------------------------\u001b[0m",
      "\u001b[0;31mNameError\u001b[0m                                 Traceback (most recent call last)",
      "\u001b[1;32m/Users/williamgilpin/program_repos/shrec/chaos_correlation.ipynb Cell 2'\u001b[0m in \u001b[0;36m<cell line: 12>\u001b[0;34m()\u001b[0m\n\u001b[1;32m     <a href='vscode-notebook-cell:/Users/williamgilpin/program_repos/shrec/chaos_correlation.ipynb#ch0000039?line=14'>15</a>\u001b[0m \u001b[39m# This try/except loop ensures that \u001b[39;00m\n\u001b[1;32m     <a href='vscode-notebook-cell:/Users/williamgilpin/program_repos/shrec/chaos_correlation.ipynb#ch0000039?line=15'>16</a>\u001b[0m \u001b[39m#   you'll catch TimeoutException when it's sent.\u001b[39;00m\n\u001b[1;32m     <a href='vscode-notebook-cell:/Users/williamgilpin/program_repos/shrec/chaos_correlation.ipynb#ch0000039?line=16'>17</a>\u001b[0m \u001b[39mtry\u001b[39;00m:\n\u001b[0;32m---> <a href='vscode-notebook-cell:/Users/williamgilpin/program_repos/shrec/chaos_correlation.ipynb#ch0000039?line=17'>18</a>\u001b[0m     sol \u001b[39m=\u001b[39m solve_ivp(skew_rhs, [\u001b[39m0\u001b[39m, \u001b[39m200\u001b[39m], all_ic, t_eval\u001b[39m=\u001b[39mnp\u001b[39m.\u001b[39mlinspace(\u001b[39m0\u001b[39m, \u001b[39m200\u001b[39m, \u001b[39m2000\u001b[39m))\n\u001b[1;32m     <a href='vscode-notebook-cell:/Users/williamgilpin/program_repos/shrec/chaos_correlation.ipynb#ch0000039?line=18'>19</a>\u001b[0m     timeout_flag \u001b[39m=\u001b[39m \u001b[39mFalse\u001b[39;00m\n\u001b[1;32m     <a href='vscode-notebook-cell:/Users/williamgilpin/program_repos/shrec/chaos_correlation.ipynb#ch0000039?line=19'>20</a>\u001b[0m \u001b[39mexcept\u001b[39;00m TimeoutException:\n",
      "\u001b[0;31mNameError\u001b[0m: name 'solve_ivp' is not defined"
     ]
    },
    {
     "ename": "",
     "evalue": "",
     "output_type": "error",
     "traceback": [
      "\u001b[1;31mThe Kernel crashed while executing code in the the current cell or a previous cell. Please review the code in the cell(s) to identify a possible cause of the failure. Click <a href='https://aka.ms/vscodeJupyterKernelCrash'>here</a> for more info. View Jupyter <a href='command:jupyter.viewOutput'>log</a> for further details."
     ]
    }
   ],
   "source": [
    "# import signal\n",
    "\n",
    "# class TimeoutException(Exception):   # Custom exception class\n",
    "#     pass\n",
    "\n",
    "# def timeout_handler(signum, frame):   # Custom signal handler\n",
    "#     raise TimeoutException\n",
    "\n",
    "# # Change the behavior of SIGALRM\n",
    "# signal.signal(signal.SIGALRM, timeout_handler)\n",
    "# timeout_flag = True\n",
    "# for i in range(3):\n",
    "#     # Start the timer. Once 5 seconds are over, a SIGALRM signal is sent.\n",
    "#     signal.alarm(1)    \n",
    "#     # This try/except loop ensures that \n",
    "#     #   you'll catch TimeoutException when it's sent.\n",
    "#     try:\n",
    "#         sol = solve_ivp(skew_rhs, [0, 200], all_ic, t_eval=np.linspace(0, 200, 2000))\n",
    "#         timeout_flag = False\n",
    "#     except TimeoutException:\n",
    "#         continue # continue the for loop if function A takes more than 5 second\n",
    "#     else:\n",
    "#         # Reset the alarm\n",
    "#         signal.alarm(0)\n",
    "\n",
    "# print(timeout_flag)"
   ]
  },
  {
   "cell_type": "code",
   "execution_count": 3,
   "metadata": {},
   "outputs": [
    {
     "data": {
      "text/plain": [
       "['Aizawa',\n",
       " 'AnishchenkoAstakhov',\n",
       " 'Arneodo',\n",
       " 'ArnoldBeltramiChildress',\n",
       " 'ArnoldWeb',\n",
       " 'BeerRNN',\n",
       " 'BelousovZhabotinsky',\n",
       " 'BickleyJet',\n",
       " 'Blasius',\n",
       " 'BlinkingRotlet',\n",
       " 'BlinkingVortex',\n",
       " 'Bouali',\n",
       " 'Bouali2',\n",
       " 'BurkeShaw',\n",
       " 'CaTwoPlus',\n",
       " 'CaTwoPlusQuasiperiodic',\n",
       " 'CellCycle',\n",
       " 'CellularNeuralNetwork',\n",
       " 'Chen',\n",
       " 'ChenLee',\n",
       " 'Chua',\n",
       " 'CircadianRhythm',\n",
       " 'CoevolvingPredatorPrey',\n",
       " 'Colpitts',\n",
       " 'Coullet',\n",
       " 'Dadras',\n",
       " 'DequanLi',\n",
       " 'DoubleGyre',\n",
       " 'DoublePendulum',\n",
       " 'Duffing',\n",
       " 'ExcitableCell',\n",
       " 'Finance',\n",
       " 'FluidTrampoline',\n",
       " 'ForcedBrusselator',\n",
       " 'ForcedFitzHughNagumo',\n",
       " 'ForcedVanDerPol',\n",
       " 'GenesioTesi',\n",
       " 'GuckenheimerHolmes',\n",
       " 'Hadley',\n",
       " 'Halvorsen',\n",
       " 'HastingsPowell',\n",
       " 'HenonHeiles',\n",
       " 'HindmarshRose',\n",
       " 'Hopfield',\n",
       " 'HyperBao',\n",
       " 'HyperCai',\n",
       " 'HyperJha',\n",
       " 'HyperLorenz',\n",
       " 'HyperLu',\n",
       " 'HyperPang',\n",
       " 'HyperQi',\n",
       " 'HyperRossler',\n",
       " 'HyperWang',\n",
       " 'HyperXu',\n",
       " 'HyperYan',\n",
       " 'HyperYangChen',\n",
       " 'IkedaDelay',\n",
       " 'IsothermalChemical',\n",
       " 'ItikBanksTumor',\n",
       " 'JerkCircuit',\n",
       " 'KawczynskiStrizhak',\n",
       " 'Laser',\n",
       " 'LiuChen',\n",
       " 'Lorenz',\n",
       " 'Lorenz84',\n",
       " 'Lorenz96',\n",
       " 'LorenzBounded',\n",
       " 'LorenzCoupled',\n",
       " 'LorenzStenflo',\n",
       " 'LuChen',\n",
       " 'LuChenCheng',\n",
       " 'MacArthur',\n",
       " 'MackeyGlass',\n",
       " 'MooreSpiegel',\n",
       " 'MultiChua',\n",
       " 'NewtonLiepnik',\n",
       " 'NoseHoover',\n",
       " 'NuclearQuadrupole',\n",
       " 'OscillatingFlow',\n",
       " 'PanXuZhou',\n",
       " 'PehlivanWei',\n",
       " 'PiecewiseCircuit',\n",
       " 'Qi',\n",
       " 'QiChen',\n",
       " 'RabinovichFabrikant',\n",
       " 'RayleighBenard',\n",
       " 'RikitakeDynamo',\n",
       " 'Rossler',\n",
       " 'Rucklidge',\n",
       " 'Sakarya',\n",
       " 'SaltonSea',\n",
       " 'SanUmSrisuchinwong',\n",
       " 'ScrollDelay',\n",
       " 'ShimizuMorioka',\n",
       " 'SprottA',\n",
       " 'SprottB',\n",
       " 'SprottC',\n",
       " 'SprottD',\n",
       " 'SprottDelay',\n",
       " 'SprottE',\n",
       " 'SprottF',\n",
       " 'SprottG',\n",
       " 'SprottH',\n",
       " 'SprottI',\n",
       " 'SprottJ',\n",
       " 'SprottJerk',\n",
       " 'SprottK',\n",
       " 'SprottL',\n",
       " 'SprottM',\n",
       " 'SprottMore',\n",
       " 'SprottN',\n",
       " 'SprottO',\n",
       " 'SprottP',\n",
       " 'SprottQ',\n",
       " 'SprottR',\n",
       " 'SprottS',\n",
       " 'SprottTorus',\n",
       " 'StickSlipOscillator',\n",
       " 'SwingingAtwood',\n",
       " 'Thomas',\n",
       " 'ThomasLabyrinth',\n",
       " 'Torus',\n",
       " 'Tsucs2',\n",
       " 'TurchinHanski',\n",
       " 'VallisElNino',\n",
       " 'VossDelay',\n",
       " 'WangSun',\n",
       " 'WindmiReduced',\n",
       " 'YuWang',\n",
       " 'YuWang2',\n",
       " 'ZhouChen']"
      ]
     },
     "execution_count": 3,
     "metadata": {},
     "output_type": "execute_result"
    }
   ],
   "source": [
    "# from dysts.base import get_attractor_list\n",
    "# from dysts.utils import integrate_dyn\n",
    "# import dysts.flows\n",
    "# from dysts.flows import *\n",
    "\n",
    "# from dysts.analysis import sample_initial_conditions\n",
    "\n",
    "# from scipy.integrate import solve_ivp\n",
    "\n",
    "# mr = 60 # number of response systems\n",
    "\n",
    "all_system_names"
   ]
  },
  {
   "cell_type": "code",
   "execution_count": 11,
   "metadata": {},
   "outputs": [
    {
     "data": {
      "text/plain": [
       "[<matplotlib.lines.Line2D at 0x7fbdb0375520>]"
      ]
     },
     "execution_count": 11,
     "metadata": {},
     "output_type": "execute_result"
    },
    {
     "data": {
      "image/png": "[encoded data removed]",
      "text/plain": [
       "<Figure size 432x288 with 1 Axes>"
      ]
     },
     "metadata": {
      "needs_background": "light"
     },
     "output_type": "display_data"
    }
   ],
   "source": []
  },
  {
   "cell_type": "code",
   "execution_count": 20,
   "metadata": {},
   "outputs": [
    {
     "data": {
      "text/plain": [
       "(10,)"
      ]
     },
     "execution_count": 20,
     "metadata": {},
     "output_type": "execute_result"
    }
   ],
   "source": [
    "ic.shape"
   ]
  },
  {
   "cell_type": "code",
   "execution_count": 19,
   "metadata": {},
   "outputs": [
    {
     "ename": "ValueError",
     "evalue": "operands could not be broadcast together with shapes (7,) (600,) (7,) ",
     "output_type": "error",
     "traceback": [
      "\u001b[0;31m---------------------------------------------------------------------------\u001b[0m",
      "\u001b[0;31mValueError\u001b[0m                                Traceback (most recent call last)",
      "\u001b[1;32m/Users/williamgilpin/program_repos/shrec/chaos_correlation.ipynb Cell 7'\u001b[0m in \u001b[0;36m<cell line: 22>\u001b[0;34m()\u001b[0m\n\u001b[1;32m     <a href='vscode-notebook-cell:/Users/williamgilpin/program_repos/shrec/chaos_correlation.ipynb#ch0000020?line=19'>20</a>\u001b[0m dt \u001b[39m=\u001b[39m \u001b[39mmin\u001b[39m(eq_driver\u001b[39m.\u001b[39mdt, eq_response\u001b[39m.\u001b[39mdt)\n\u001b[1;32m     <a href='vscode-notebook-cell:/Users/williamgilpin/program_repos/shrec/chaos_correlation.ipynb#ch0000020?line=20'>21</a>\u001b[0m ff \u001b[39m=\u001b[39m \u001b[39mlambda\u001b[39;00m x, y : skew_rhs(y, x)\n\u001b[0;32m---> <a href='vscode-notebook-cell:/Users/williamgilpin/program_repos/shrec/chaos_correlation.ipynb#ch0000020?line=21'>22</a>\u001b[0m integrate_dyn(ff, ic, tvals, dtval\u001b[39m=\u001b[39;49mdt, method\u001b[39m=\u001b[39;49m\u001b[39m\"\u001b[39;49m\u001b[39mRadau\u001b[39;49m\u001b[39m\"\u001b[39;49m)\n",
      "File \u001b[0;32m~/miniconda3/envs/shrec/lib/python3.8/site-packages/dysts/utils.py:113\u001b[0m, in \u001b[0;36mintegrate_dyn\u001b[0;34m(f, ic, tvals, noise, dtval, **kwargs)\u001b[0m\n\u001b[1;32m    110\u001b[0m \u001b[39melse\u001b[39;00m:\n\u001b[1;32m    111\u001b[0m     \u001b[39m#dt = np.median(np.diff(tvals))\u001b[39;00m\n\u001b[1;32m    112\u001b[0m     fc \u001b[39m=\u001b[39m \u001b[39mlambda\u001b[39;00m t, y : f(y, t)\n\u001b[0;32m--> 113\u001b[0m     sol0 \u001b[39m=\u001b[39m solve_ivp(fc, [tvals[\u001b[39m0\u001b[39;49m], tvals[\u001b[39m-\u001b[39;49m\u001b[39m1\u001b[39;49m]], ic, t_eval\u001b[39m=\u001b[39;49mtvals, first_step\u001b[39m=\u001b[39;49mdtval, \u001b[39m*\u001b[39;49m\u001b[39m*\u001b[39;49mkwargs)\n\u001b[1;32m    114\u001b[0m     sol \u001b[39m=\u001b[39m sol0\u001b[39m.\u001b[39my\n\u001b[1;32m    115\u001b[0m     \u001b[39m#sol = odeint(f, np.array(ic), tvals).T\u001b[39;00m\n",
      "File \u001b[0;32m~/miniconda3/envs/shrec/lib/python3.8/site-packages/scipy/integrate/_ivp/ivp.py:542\u001b[0m, in \u001b[0;36msolve_ivp\u001b[0;34m(fun, t_span, y0, method, t_eval, dense_output, events, vectorized, args, **options)\u001b[0m\n\u001b[1;32m    539\u001b[0m \u001b[39mif\u001b[39;00m method \u001b[39min\u001b[39;00m METHODS:\n\u001b[1;32m    540\u001b[0m     method \u001b[39m=\u001b[39m METHODS[method]\n\u001b[0;32m--> 542\u001b[0m solver \u001b[39m=\u001b[39m method(fun, t0, y0, tf, vectorized\u001b[39m=\u001b[39;49mvectorized, \u001b[39m*\u001b[39;49m\u001b[39m*\u001b[39;49moptions)\n\u001b[1;32m    544\u001b[0m \u001b[39mif\u001b[39;00m t_eval \u001b[39mis\u001b[39;00m \u001b[39mNone\u001b[39;00m:\n\u001b[1;32m    545\u001b[0m     ts \u001b[39m=\u001b[39m [t0]\n",
      "File \u001b[0;32m~/miniconda3/envs/shrec/lib/python3.8/site-packages/scipy/integrate/_ivp/radau.py:290\u001b[0m, in \u001b[0;36mRadau.__init__\u001b[0;34m(self, fun, t0, y0, t_bound, max_step, rtol, atol, jac, jac_sparsity, vectorized, first_step, **extraneous)\u001b[0m\n\u001b[1;32m    288\u001b[0m \u001b[39mself\u001b[39m\u001b[39m.\u001b[39mmax_step \u001b[39m=\u001b[39m validate_max_step(max_step)\n\u001b[1;32m    289\u001b[0m \u001b[39mself\u001b[39m\u001b[39m.\u001b[39mrtol, \u001b[39mself\u001b[39m\u001b[39m.\u001b[39matol \u001b[39m=\u001b[39m validate_tol(rtol, atol, \u001b[39mself\u001b[39m\u001b[39m.\u001b[39mn)\n\u001b[0;32m--> 290\u001b[0m \u001b[39mself\u001b[39m\u001b[39m.\u001b[39mf \u001b[39m=\u001b[39m \u001b[39mself\u001b[39;49m\u001b[39m.\u001b[39;49mfun(\u001b[39mself\u001b[39;49m\u001b[39m.\u001b[39;49mt, \u001b[39mself\u001b[39;49m\u001b[39m.\u001b[39;49my)\n\u001b[1;32m    291\u001b[0m \u001b[39m# Select initial step assuming the same order which is used to control\u001b[39;00m\n\u001b[1;32m    292\u001b[0m \u001b[39m# the error.\u001b[39;00m\n\u001b[1;32m    293\u001b[0m \u001b[39mif\u001b[39;00m first_step \u001b[39mis\u001b[39;00m \u001b[39mNone\u001b[39;00m:\n",
      "File \u001b[0;32m~/miniconda3/envs/shrec/lib/python3.8/site-packages/scipy/integrate/_ivp/base.py:138\u001b[0m, in \u001b[0;36mOdeSolver.__init__.<locals>.fun\u001b[0;34m(t, y)\u001b[0m\n\u001b[1;32m    136\u001b[0m \u001b[39mdef\u001b[39;00m \u001b[39mfun\u001b[39m(t, y):\n\u001b[1;32m    137\u001b[0m     \u001b[39mself\u001b[39m\u001b[39m.\u001b[39mnfev \u001b[39m+\u001b[39m\u001b[39m=\u001b[39m \u001b[39m1\u001b[39m\n\u001b[0;32m--> 138\u001b[0m     \u001b[39mreturn\u001b[39;00m \u001b[39mself\u001b[39;49m\u001b[39m.\u001b[39;49mfun_single(t, y)\n",
      "File \u001b[0;32m~/miniconda3/envs/shrec/lib/python3.8/site-packages/scipy/integrate/_ivp/base.py:20\u001b[0m, in \u001b[0;36mcheck_arguments.<locals>.fun_wrapped\u001b[0;34m(t, y)\u001b[0m\n\u001b[1;32m     19\u001b[0m \u001b[39mdef\u001b[39;00m \u001b[39mfun_wrapped\u001b[39m(t, y):\n\u001b[0;32m---> 20\u001b[0m     \u001b[39mreturn\u001b[39;00m np\u001b[39m.\u001b[39masarray(fun(t, y), dtype\u001b[39m=\u001b[39mdtype)\n",
      "File \u001b[0;32m~/miniconda3/envs/shrec/lib/python3.8/site-packages/dysts/utils.py:112\u001b[0m, in \u001b[0;36mintegrate_dyn.<locals>.<lambda>\u001b[0;34m(t, y)\u001b[0m\n\u001b[1;32m    109\u001b[0m     sol \u001b[39m=\u001b[39m np\u001b[39m.\u001b[39mvstack([resample(item, \u001b[39mlen\u001b[39m(tvals)) \u001b[39mfor\u001b[39;00m item \u001b[39min\u001b[39;00m sol_fine])\n\u001b[1;32m    110\u001b[0m \u001b[39melse\u001b[39;00m:\n\u001b[1;32m    111\u001b[0m     \u001b[39m#dt = np.median(np.diff(tvals))\u001b[39;00m\n\u001b[0;32m--> 112\u001b[0m     fc \u001b[39m=\u001b[39m \u001b[39mlambda\u001b[39;00m t, y : f(y, t)\n\u001b[1;32m    113\u001b[0m     sol0 \u001b[39m=\u001b[39m solve_ivp(fc, [tvals[\u001b[39m0\u001b[39m], tvals[\u001b[39m-\u001b[39m\u001b[39m1\u001b[39m]], ic, t_eval\u001b[39m=\u001b[39mtvals, first_step\u001b[39m=\u001b[39mdtval, \u001b[39m*\u001b[39m\u001b[39m*\u001b[39mkwargs)\n\u001b[1;32m    114\u001b[0m     sol \u001b[39m=\u001b[39m sol0\u001b[39m.\u001b[39my\n",
      "\u001b[1;32m/Users/williamgilpin/program_repos/shrec/chaos_correlation.ipynb Cell 7'\u001b[0m in \u001b[0;36m<lambda>\u001b[0;34m(x, y)\u001b[0m\n\u001b[1;32m     <a href='vscode-notebook-cell:/Users/williamgilpin/program_repos/shrec/chaos_correlation.ipynb#ch0000020?line=17'>18</a>\u001b[0m tvals \u001b[39m=\u001b[39m np\u001b[39m.\u001b[39mlinspace(\u001b[39m0\u001b[39m, tlim, n)\n\u001b[1;32m     <a href='vscode-notebook-cell:/Users/williamgilpin/program_repos/shrec/chaos_correlation.ipynb#ch0000020?line=19'>20</a>\u001b[0m dt \u001b[39m=\u001b[39m \u001b[39mmin\u001b[39m(eq_driver\u001b[39m.\u001b[39mdt, eq_response\u001b[39m.\u001b[39mdt)\n\u001b[0;32m---> <a href='vscode-notebook-cell:/Users/williamgilpin/program_repos/shrec/chaos_correlation.ipynb#ch0000020?line=20'>21</a>\u001b[0m ff \u001b[39m=\u001b[39m \u001b[39mlambda\u001b[39;00m x, y : skew_rhs(y, x)\n\u001b[1;32m     <a href='vscode-notebook-cell:/Users/williamgilpin/program_repos/shrec/chaos_correlation.ipynb#ch0000020?line=21'>22</a>\u001b[0m integrate_dyn(ff, ic, tvals, dtval\u001b[39m=\u001b[39mdt, method\u001b[39m=\u001b[39m\u001b[39m\"\u001b[39m\u001b[39mRadau\u001b[39m\u001b[39m\"\u001b[39m)\n",
      "\u001b[1;32m/Users/williamgilpin/program_repos/shrec/chaos_correlation.ipynb Cell 3'\u001b[0m in \u001b[0;36mskew_rhs\u001b[0;34m(t, X, kappa)\u001b[0m\n\u001b[1;32m     <a href='vscode-notebook-cell:/Users/williamgilpin/program_repos/shrec/chaos_correlation.ipynb#ch0000002?line=50'>51</a>\u001b[0m \u001b[39mdef\u001b[39;00m \u001b[39mskew_rhs\u001b[39m(t, X, kappa\u001b[39m=\u001b[39m\u001b[39m1e-2\u001b[39m):\n\u001b[1;32m     <a href='vscode-notebook-cell:/Users/williamgilpin/program_repos/shrec/chaos_correlation.ipynb#ch0000002?line=51'>52</a>\u001b[0m     Xd, Xr \u001b[39m=\u001b[39m X[:nd], X[nd:]\n\u001b[0;32m---> <a href='vscode-notebook-cell:/Users/williamgilpin/program_repos/shrec/chaos_correlation.ipynb#ch0000002?line=53'>54</a>\u001b[0m     Xr \u001b[39m+\u001b[39m\u001b[39m=\u001b[39m kappa \u001b[39m*\u001b[39m Xd[\u001b[39m0\u001b[39m] \u001b[39m*\u001b[39m (np\u001b[39m.\u001b[39mtile(amp_response, mr) \u001b[39m/\u001b[39m amp_drive[\u001b[39m0\u001b[39m]) \u001b[39m# drive with first variable. Scales by typical amplitude\u001b[39;00m\n\u001b[1;32m     <a href='vscode-notebook-cell:/Users/williamgilpin/program_repos/shrec/chaos_correlation.ipynb#ch0000002?line=55'>56</a>\u001b[0m     drive_out \u001b[39m=\u001b[39m eq_driver(Xd, t)\n\u001b[1;32m     <a href='vscode-notebook-cell:/Users/williamgilpin/program_repos/shrec/chaos_correlation.ipynb#ch0000002?line=56'>57</a>\u001b[0m     all_out \u001b[39m=\u001b[39m \u001b[39mlist\u001b[39m()\n",
      "\u001b[0;31mValueError\u001b[0m: operands could not be broadcast together with shapes (7,) (600,) (7,) "
     ]
    }
   ],
   "source": [
    "Lorenz().dt\n",
    "\n",
    "\n",
    "\n",
    "\n",
    "from dysts.utils import integrate_dyn\n",
    "\n",
    "\n",
    "# upscale_factor = (tlim / self.dt) / n\n",
    "# if upscale_factor > 1e3:\n",
    "#     warnings.warn(\n",
    "#         f\"Expect slowdown due to excessive integration required; scale factor {upscale_factor}\"\n",
    "#     )\n",
    "\n",
    "\n",
    "\n",
    "tpts = np.arange(0, 2000) *  min(eq_driver.dt, eq_response.dt)\n",
    "n = 2000\n",
    "pts_per_period = 30\n",
    "# tlim = min(eq_driver.period, eq_response.period) * (n / pts_per_period)\n",
    "# tvals = np.linspace(0, tlim, n)\n",
    "\n",
    "# dt = min(eq_driver.dt, eq_response.dt)\n",
    "# ff = lambda x, y : skew_rhs(y, x)\n",
    "# integrate_dyn(ff, ic, tvals, dtval=dt, method=\"Radau\")\n",
    "\n"
   ]
  },
  {
   "cell_type": "code",
   "execution_count": 100,
   "metadata": {},
   "outputs": [
    {
     "name": "stdout",
     "output_type": "stream",
     "text": [
      "SprottK DoublePendulum\n"
     ]
    },
    {
     "name": "stderr",
     "output_type": "stream",
     "text": [
      "/Users/williamgilpin/miniconda3/envs/shrec/lib/python3.8/site-packages/dysts/base.py:255: UserWarning: This system has at least one unbounded variable, which has been mapped to a bounded domain. Pass argument postprocess=False in order to generate trajectories from the raw system.\n",
      "  warnings.warn(\n"
     ]
    },
    {
     "ename": "KeyboardInterrupt",
     "evalue": "",
     "output_type": "error",
     "traceback": [
      "\u001b[0;31m---------------------------------------------------------------------------\u001b[0m",
      "\u001b[0;31mKeyboardInterrupt\u001b[0m                         Traceback (most recent call last)",
      "\u001b[1;32m/Users/williamgilpin/program_repos/shrec/chaos_correlation.ipynb Cell 8'\u001b[0m in \u001b[0;36m<cell line: 32>\u001b[0;34m()\u001b[0m\n\u001b[1;32m     <a href='vscode-notebook-cell:/Users/williamgilpin/program_repos/shrec/chaos_correlation.ipynb#ch0000004?line=84'>85</a>\u001b[0m tlim \u001b[39m=\u001b[39m \u001b[39m5\u001b[39m \u001b[39m*\u001b[39m eq_driver\u001b[39m.\u001b[39mperiod\n\u001b[1;32m     <a href='vscode-notebook-cell:/Users/williamgilpin/program_repos/shrec/chaos_correlation.ipynb#ch0000004?line=85'>86</a>\u001b[0m tpts \u001b[39m=\u001b[39m np\u001b[39m.\u001b[39mlinspace(\u001b[39m0\u001b[39m, tlim, \u001b[39m2000\u001b[39m)\n\u001b[0;32m---> <a href='vscode-notebook-cell:/Users/williamgilpin/program_repos/shrec/chaos_correlation.ipynb#ch0000004?line=86'>87</a>\u001b[0m sol \u001b[39m=\u001b[39m solve_ivp(skew_rhs, [\u001b[39m0\u001b[39;49m, tlim], all_ic, t_eval\u001b[39m=\u001b[39;49mtpts, first_step\u001b[39m=\u001b[39;49mdt)\n\u001b[1;32m     <a href='vscode-notebook-cell:/Users/williamgilpin/program_repos/shrec/chaos_correlation.ipynb#ch0000004?line=88'>89</a>\u001b[0m sol_drive \u001b[39m=\u001b[39m sol\u001b[39m.\u001b[39my[:nd]\n\u001b[1;32m     <a href='vscode-notebook-cell:/Users/williamgilpin/program_repos/shrec/chaos_correlation.ipynb#ch0000004?line=89'>90</a>\u001b[0m sol_response \u001b[39m=\u001b[39m sol\u001b[39m.\u001b[39my[nd:]\u001b[39m#[::nr]\u001b[39;00m\n",
      "File \u001b[0;32m~/miniconda3/envs/shrec/lib/python3.8/site-packages/scipy/integrate/_ivp/ivp.py:576\u001b[0m, in \u001b[0;36msolve_ivp\u001b[0;34m(fun, t_span, y0, method, t_eval, dense_output, events, vectorized, args, **options)\u001b[0m\n\u001b[1;32m    574\u001b[0m status \u001b[39m=\u001b[39m \u001b[39mNone\u001b[39;00m\n\u001b[1;32m    575\u001b[0m \u001b[39mwhile\u001b[39;00m status \u001b[39mis\u001b[39;00m \u001b[39mNone\u001b[39;00m:\n\u001b[0;32m--> 576\u001b[0m     message \u001b[39m=\u001b[39m solver\u001b[39m.\u001b[39;49mstep()\n\u001b[1;32m    578\u001b[0m     \u001b[39mif\u001b[39;00m solver\u001b[39m.\u001b[39mstatus \u001b[39m==\u001b[39m \u001b[39m'\u001b[39m\u001b[39mfinished\u001b[39m\u001b[39m'\u001b[39m:\n\u001b[1;32m    579\u001b[0m         status \u001b[39m=\u001b[39m \u001b[39m0\u001b[39m\n",
      "File \u001b[0;32m~/miniconda3/envs/shrec/lib/python3.8/site-packages/scipy/integrate/_ivp/base.py:181\u001b[0m, in \u001b[0;36mOdeSolver.step\u001b[0;34m(self)\u001b[0m\n\u001b[1;32m    179\u001b[0m \u001b[39melse\u001b[39;00m:\n\u001b[1;32m    180\u001b[0m     t \u001b[39m=\u001b[39m \u001b[39mself\u001b[39m\u001b[39m.\u001b[39mt\n\u001b[0;32m--> 181\u001b[0m     success, message \u001b[39m=\u001b[39m \u001b[39mself\u001b[39;49m\u001b[39m.\u001b[39;49m_step_impl()\n\u001b[1;32m    183\u001b[0m     \u001b[39mif\u001b[39;00m \u001b[39mnot\u001b[39;00m success:\n\u001b[1;32m    184\u001b[0m         \u001b[39mself\u001b[39m\u001b[39m.\u001b[39mstatus \u001b[39m=\u001b[39m \u001b[39m'\u001b[39m\u001b[39mfailed\u001b[39m\u001b[39m'\u001b[39m\n",
      "File \u001b[0;32m~/miniconda3/envs/shrec/lib/python3.8/site-packages/scipy/integrate/_ivp/rk.py:144\u001b[0m, in \u001b[0;36mRungeKutta._step_impl\u001b[0;34m(self)\u001b[0m\n\u001b[1;32m    141\u001b[0m h \u001b[39m=\u001b[39m t_new \u001b[39m-\u001b[39m t\n\u001b[1;32m    142\u001b[0m h_abs \u001b[39m=\u001b[39m np\u001b[39m.\u001b[39mabs(h)\n\u001b[0;32m--> 144\u001b[0m y_new, f_new \u001b[39m=\u001b[39m rk_step(\u001b[39mself\u001b[39;49m\u001b[39m.\u001b[39;49mfun, t, y, \u001b[39mself\u001b[39;49m\u001b[39m.\u001b[39;49mf, h, \u001b[39mself\u001b[39;49m\u001b[39m.\u001b[39;49mA,\n\u001b[1;32m    145\u001b[0m                        \u001b[39mself\u001b[39;49m\u001b[39m.\u001b[39;49mB, \u001b[39mself\u001b[39;49m\u001b[39m.\u001b[39;49mC, \u001b[39mself\u001b[39;49m\u001b[39m.\u001b[39;49mK)\n\u001b[1;32m    146\u001b[0m scale \u001b[39m=\u001b[39m atol \u001b[39m+\u001b[39m np\u001b[39m.\u001b[39mmaximum(np\u001b[39m.\u001b[39mabs(y), np\u001b[39m.\u001b[39mabs(y_new)) \u001b[39m*\u001b[39m rtol\n\u001b[1;32m    147\u001b[0m error_norm \u001b[39m=\u001b[39m \u001b[39mself\u001b[39m\u001b[39m.\u001b[39m_estimate_error_norm(\u001b[39mself\u001b[39m\u001b[39m.\u001b[39mK, h, scale)\n",
      "File \u001b[0;32m~/miniconda3/envs/shrec/lib/python3.8/site-packages/scipy/integrate/_ivp/rk.py:64\u001b[0m, in \u001b[0;36mrk_step\u001b[0;34m(fun, t, y, f, h, A, B, C, K)\u001b[0m\n\u001b[1;32m     62\u001b[0m \u001b[39mfor\u001b[39;00m s, (a, c) \u001b[39min\u001b[39;00m \u001b[39menumerate\u001b[39m(\u001b[39mzip\u001b[39m(A[\u001b[39m1\u001b[39m:], C[\u001b[39m1\u001b[39m:]), start\u001b[39m=\u001b[39m\u001b[39m1\u001b[39m):\n\u001b[1;32m     63\u001b[0m     dy \u001b[39m=\u001b[39m np\u001b[39m.\u001b[39mdot(K[:s]\u001b[39m.\u001b[39mT, a[:s]) \u001b[39m*\u001b[39m h\n\u001b[0;32m---> 64\u001b[0m     K[s] \u001b[39m=\u001b[39m fun(t \u001b[39m+\u001b[39;49m c \u001b[39m*\u001b[39;49m h, y \u001b[39m+\u001b[39;49m dy)\n\u001b[1;32m     66\u001b[0m y_new \u001b[39m=\u001b[39m y \u001b[39m+\u001b[39m h \u001b[39m*\u001b[39m np\u001b[39m.\u001b[39mdot(K[:\u001b[39m-\u001b[39m\u001b[39m1\u001b[39m]\u001b[39m.\u001b[39mT, B)\n\u001b[1;32m     67\u001b[0m f_new \u001b[39m=\u001b[39m fun(t \u001b[39m+\u001b[39m h, y_new)\n",
      "File \u001b[0;32m~/miniconda3/envs/shrec/lib/python3.8/site-packages/scipy/integrate/_ivp/base.py:138\u001b[0m, in \u001b[0;36mOdeSolver.__init__.<locals>.fun\u001b[0;34m(t, y)\u001b[0m\n\u001b[1;32m    136\u001b[0m \u001b[39mdef\u001b[39;00m \u001b[39mfun\u001b[39m(t, y):\n\u001b[1;32m    137\u001b[0m     \u001b[39mself\u001b[39m\u001b[39m.\u001b[39mnfev \u001b[39m+\u001b[39m\u001b[39m=\u001b[39m \u001b[39m1\u001b[39m\n\u001b[0;32m--> 138\u001b[0m     \u001b[39mreturn\u001b[39;00m \u001b[39mself\u001b[39;49m\u001b[39m.\u001b[39;49mfun_single(t, y)\n",
      "File \u001b[0;32m~/miniconda3/envs/shrec/lib/python3.8/site-packages/scipy/integrate/_ivp/base.py:20\u001b[0m, in \u001b[0;36mcheck_arguments.<locals>.fun_wrapped\u001b[0;34m(t, y)\u001b[0m\n\u001b[1;32m     19\u001b[0m \u001b[39mdef\u001b[39;00m \u001b[39mfun_wrapped\u001b[39m(t, y):\n\u001b[0;32m---> 20\u001b[0m     \u001b[39mreturn\u001b[39;00m np\u001b[39m.\u001b[39masarray(fun(t, y), dtype\u001b[39m=\u001b[39mdtype)\n",
      "\u001b[1;32m/Users/williamgilpin/program_repos/shrec/chaos_correlation.ipynb Cell 8'\u001b[0m in \u001b[0;36mskew_rhs\u001b[0;34m(t, X, kappa)\u001b[0m\n\u001b[1;32m     <a href='vscode-notebook-cell:/Users/williamgilpin/program_repos/shrec/chaos_correlation.ipynb#ch0000004?line=66'>67</a>\u001b[0m all_out \u001b[39m=\u001b[39m \u001b[39mlist\u001b[39m()\n\u001b[1;32m     <a href='vscode-notebook-cell:/Users/williamgilpin/program_repos/shrec/chaos_correlation.ipynb#ch0000004?line=67'>68</a>\u001b[0m \u001b[39mfor\u001b[39;00m i, rhs \u001b[39min\u001b[39;00m \u001b[39menumerate\u001b[39m(all_rhs):\n\u001b[0;32m---> <a href='vscode-notebook-cell:/Users/williamgilpin/program_repos/shrec/chaos_correlation.ipynb#ch0000004?line=68'>69</a>\u001b[0m     rhs_out \u001b[39m=\u001b[39m rhs(Xr[(i\u001b[39m*\u001b[39;49mnr):((i \u001b[39m+\u001b[39;49m \u001b[39m1\u001b[39;49m) \u001b[39m*\u001b[39;49m nr)], t)\n\u001b[1;32m     <a href='vscode-notebook-cell:/Users/williamgilpin/program_repos/shrec/chaos_correlation.ipynb#ch0000004?line=69'>70</a>\u001b[0m     all_out\u001b[39m.\u001b[39mappend(rhs_out)\n\u001b[1;32m     <a href='vscode-notebook-cell:/Users/williamgilpin/program_repos/shrec/chaos_correlation.ipynb#ch0000004?line=70'>71</a>\u001b[0m all_out \u001b[39m=\u001b[39m [drive_out] \u001b[39m+\u001b[39m all_out\n",
      "File \u001b[0;32m~/miniconda3/envs/shrec/lib/python3.8/site-packages/dysts/base.py:180\u001b[0m, in \u001b[0;36mDynSys.rhs\u001b[0;34m(self, X, t)\u001b[0m\n\u001b[1;32m    177\u001b[0m     \u001b[39mself\u001b[39m\u001b[39m.\u001b[39mdt \u001b[39m=\u001b[39m \u001b[39mself\u001b[39m\u001b[39m.\u001b[39m_load_data()[\u001b[39m\"\u001b[39m\u001b[39mdt\u001b[39m\u001b[39m\"\u001b[39m]\n\u001b[1;32m    178\u001b[0m     \u001b[39mself\u001b[39m\u001b[39m.\u001b[39mperiod \u001b[39m=\u001b[39m \u001b[39mself\u001b[39m\u001b[39m.\u001b[39m_load_data()[\u001b[39m\"\u001b[39m\u001b[39mperiod\u001b[39m\u001b[39m\"\u001b[39m]\n\u001b[0;32m--> 180\u001b[0m \u001b[39mdef\u001b[39;00m \u001b[39mrhs\u001b[39m(\u001b[39mself\u001b[39m, X, t):\n\u001b[1;32m    181\u001b[0m     \u001b[39m\"\"\"The right hand side of a dynamical equation\"\"\"\u001b[39;00m\n\u001b[1;32m    182\u001b[0m     param_list \u001b[39m=\u001b[39m [\n\u001b[1;32m    183\u001b[0m         \u001b[39mgetattr\u001b[39m(\u001b[39mself\u001b[39m, param_name) \u001b[39mfor\u001b[39;00m param_name \u001b[39min\u001b[39;00m \u001b[39mself\u001b[39m\u001b[39m.\u001b[39mget_param_names()\n\u001b[1;32m    184\u001b[0m     ]\n",
      "\u001b[0;31mKeyboardInterrupt\u001b[0m: "
     ]
    }
   ],
   "source": [
    "from dysts.base import get_attractor_list\n",
    "from dysts.utils import integrate_dyn\n",
    "import dysts.flows\n",
    "from dysts.flows import *\n",
    "\n",
    "from dysts.analysis import sample_initial_conditions\n",
    "\n",
    "from models import RecurrenceManifold\n",
    "\n",
    "from scipy.integrate import solve_ivp\n",
    "\n",
    "mr = 60 # number of response systems\n",
    "\n",
    "all_system_names = get_attractor_list()\n",
    "# np.random.seed(0)\n",
    "# np.random.shuffle(all_system_names)\n",
    "# # all_system_names = all_system_names\n",
    "# np.random.seed(0)\n",
    "# np.random.shuffle(all_system_names)\n",
    "\n",
    "import time\n",
    "# timeout variable can be omitted, if you use specific value in the while condition\n",
    "timeout = 1000   # [seconds]\n",
    "\n",
    "\n",
    "# all_system_name_pairs = list(itertools.product(all_system_names, all_system_names))\n",
    "# np.random.seed(0)\n",
    "# np.random.shuffle(all_system_name_pairs)\n",
    "# for driver_name, response_name in all_system_name_pairs:\n",
    "\n",
    "# np.random.seed(0)\n",
    "for i in range(100):\n",
    "    driver_name, response_name = np.random.choice(all_system_names, 2, replace=False)\n",
    "    if driver_name == response_name:\n",
    "        print(\"Skipping pair of identical DS\", flush=True)\n",
    "        continue\n",
    "\n",
    "    print(driver_name, response_name, flush=True)\n",
    "    eq_driver = getattr(dysts.flows, driver_name)()\n",
    "    eq_response = getattr(dysts.flows, response_name)()\n",
    "    nd, nr = len(eq_driver.ic), len(eq_response.ic)\n",
    "\n",
    "    if (nd > 5) or (nr > 5):\n",
    "        print(\"Skipping large DS\", flush=True)\n",
    "        continue\n",
    "\n",
    "    sol_driver_pure = eq_driver.make_trajectory(1000)\n",
    "    sol_response_pure = eq_response.make_trajectory(1000)\n",
    "    amp_drive = np.mean(np.abs(sol_driver_pure), axis=0)\n",
    "    amp_response = np.mean(np.abs(sol_response_pure), axis=0)\n",
    "\n",
    "\n",
    "    ic_vals = sample_initial_conditions(eq_response, mr)\n",
    "\n",
    "    all_rhs = list()\n",
    "    for ic in ic_vals:\n",
    "        ds = getattr(dysts.flows, eq_response.name)()\n",
    "        ds.ic = ic\n",
    "        all_rhs.append(ds.rhs)\n",
    "\n",
    "    def skew_rhs(t, X, kappa=1e-2):\n",
    "        Xd, Xr = X[:nd], X[nd:]\n",
    "        \n",
    "        Xr += kappa * Xd[0] * (np.tile(amp_response, mr) / amp_drive[0]) # drive with first variable. Scales by typical amplitude\n",
    "\n",
    "        drive_out = eq_driver(Xd, t)\n",
    "        all_out = list()\n",
    "        for i, rhs in enumerate(all_rhs):\n",
    "            rhs_out = rhs(Xr[(i*nr):((i + 1) * nr)], t)\n",
    "            all_out.append(rhs_out)\n",
    "        all_out = [drive_out] + all_out\n",
    "        out = np.concatenate(all_out)\n",
    "\n",
    "        return out\n",
    "\n",
    "    all_ic = np.concatenate([np.array(eq_driver.ic), np.ravel(ic_vals)])        \n",
    "    \n",
    "    #tpts = np.linspace(0, 50, 2000)\n",
    "    #sol = solve_ivp(skew_rhs, [0, 50], all_ic, t_eval=tpts, method=\"Radau\")\n",
    "\n",
    "\n",
    "    dt = min(eq_driver.dt, eq_response.dt)\n",
    "    dt *= min(max(eq_driver.dt / dt, eq_response.dt / dt), 100) # bound the slowest step\n",
    "    #dt = eq_driver.dt\n",
    "    tlim = 5 * eq_driver.period\n",
    "    tpts = np.linspace(0, tlim, 2000)\n",
    "    sol = solve_ivp(skew_rhs, [0, tlim], all_ic, t_eval=tpts, first_step=dt)\n",
    "    \n",
    "    sol_drive = sol.y[:nd]\n",
    "    sol_response = sol.y[nd:]#[::nr]\n",
    "\n",
    "    if sol_response.shape[1] < len(tpts):\n",
    "        print(f\"Incomplete solution {sol_response.shape}\", flush=True)\n",
    "        continue\n",
    "\n",
    "\n",
    "    model = RecurrenceManifold(random_state=0, scale=np.log(2))\n",
    "    label_vals0 = model.fit_predict(sol_response.T)\n",
    "\n",
    "    true_and_recon = np.vstack([sol_drive[0], label_vals0]).T\n",
    "\n",
    "\n",
    "    measures_driver = [\n",
    "        eq_driver.maximum_lyapunov_estimated,\n",
    "        eq_driver.multiscale_entropy,\n",
    "        eq_driver.correlation_dimension,\n",
    "        eq_driver.kaplan_yorke_dimension\n",
    "    ]\n",
    "\n",
    "\n",
    "    measures_response = [\n",
    "        eq_response.maximum_lyapunov_estimated,\n",
    "        eq_response.multiscale_entropy,\n",
    "        eq_response.correlation_dimension,\n",
    "        eq_response.kaplan_yorke_dimension\n",
    "    ]\n",
    "\n",
    "    dr_str = \"driver_\" + \"|\".join([str(item) for item in measures_driver])\n",
    "    resp_str = \"response_\" + \"|\".join([str(item) for item in measures_response])\n",
    "    np.savetxt( \"response_\" + driver_name + \"_X_\" + response_name + \"_\" + dr_str + \"_\" + resp_str + \".txt\",  true_and_recon)\n",
    "\n",
    "    \n"
   ]
  },
  {
   "cell_type": "code",
   "execution_count": 78,
   "metadata": {},
   "outputs": [
    {
     "name": "stderr",
     "output_type": "stream",
     "text": [
      "Traceback (most recent call last):\n",
      "  File \"<string>\", line 1, in <module>\n",
      "  File \"/Users/williamgilpin/miniconda3/envs/shrec/lib/python3.8/multiprocessing/spawn.py\", line 116, in spawn_main\n",
      "    exitcode = _main(fd, parent_sentinel)\n",
      "  File \"/Users/williamgilpin/miniconda3/envs/shrec/lib/python3.8/multiprocessing/spawn.py\", line 126, in _main\n",
      "    self = reduction.pickle.load(from_parent)\n",
      "AttributeError: Can't get attribute 'skew_rhs' on <module '__main__' (built-in)>\n"
     ]
    }
   ],
   "source": [
    "import multiprocessing\n",
    "import time\n",
    "\n",
    "\n",
    "p = multiprocessing.Process(\n",
    "    target=solve_ivp,\n",
    "    name=\"integration\", \n",
    "    args=(skew_rhs, [0, tlim], all_ic), \n",
    "    kwargs={\"t_eval\": tpts, \"first_step\": dt}\n",
    "    )\n",
    "p.start()\n",
    "\n",
    "# Wait 10 seconds for foo\n",
    "time.sleep(10)\n",
    "\n",
    "\n",
    "# If thread is active\n",
    "if p.is_alive():\n",
    "    print(\"Terminating active prpocess\")\n",
    "\n",
    "    # Terminate foo\n",
    "    p.terminate()\n",
    "    p.join()\n",
    "\n",
    "\n",
    "# multiprocessing.Process(target=foo, args=(), kwargs={})\n"
   ]
  },
  {
   "cell_type": "code",
   "execution_count": 103,
   "metadata": {},
   "outputs": [
    {
     "name": "stdout",
     "output_type": "stream",
     "text": [
      "(2000,) (2000,)\n",
      "(2000,) (2000,)\n",
      "(2000,) (2000,)\n",
      "(2000,) (2000,)\n",
      "(2000,) (2000,)\n",
      "(15,) (15,)\n",
      "(2000,) (2000,)\n",
      "(2000,) (2000,)\n",
      "(2000,) (2000,)\n",
      "(2000,) (2000,)\n",
      "(2000,) (2000,)\n",
      "(2000,) (2000,)\n",
      "(2000,) (2000,)\n",
      "(2000,) (2000,)\n",
      "(2000,) (2000,)\n",
      "(2000,) (2000,)\n",
      "(2000,) (2000,)\n",
      "(2000,) (2000,)\n",
      "(2000,) (2000,)\n",
      "(2000,) (2000,)\n"
     ]
    }
   ],
   "source": [
    "import glob\n",
    "from benchmark_utils import print_dict, score_ts\n",
    "\n",
    "all_results = sorted(glob.glob(\"private_dump/*.txt\"))\n",
    "\n",
    "all_scores1, all_scores2, all_scores3 = list(), list(), list()\n",
    "all_lyap1, all_lyap2 = list(), list()\n",
    "for result_str in all_results:\n",
    "    data = np.loadtxt(result_str)\n",
    "    print(data[:, 0].shape, data[:, 1].shape, flush=True)\n",
    "    if len(data) < 1000:\n",
    "        continue\n",
    "\n",
    "    all_lyap1.append(float(result_str.split(\"driver\")[1].split(\"_\")[1].split(\"|\")[0]))\n",
    "    all_lyap2.append(float(result_str.split(\"response\")[2].split(\"_\")[1].split(\"|\")[0]))\n",
    "\n",
    "    scores = score_ts(standardize_ts(data[:, 0]), standardize_ts(data[:, 1]))\n",
    "    all_scores1.append(scores[\"mutual_info\"])\n",
    "    all_scores2.append(scores[\"cross forecast error neural 2\"])\n",
    "    all_scores3.append(scores[\"dynamic time warping distance\"])\n"
   ]
  },
  {
   "cell_type": "code",
   "execution_count": 106,
   "metadata": {},
   "outputs": [
    {
     "data": {
      "text/plain": [
       "[<matplotlib.lines.Line2D at 0x7fbdb1514700>]"
      ]
     },
     "execution_count": 106,
     "metadata": {},
     "output_type": "execute_result"
    },
    {
     "data": {
      "image/png": "[encoded data removed]",
      "text/plain": [
       "<Figure size 432x288 with 1 Axes>"
      ]
     },
     "metadata": {
      "needs_background": "light"
     },
     "output_type": "display_data"
    },
    {
     "data": {
      "image/png": "[encoded data removed]",
      "text/plain": [
       "<Figure size 432x288 with 1 Axes>"
      ]
     },
     "metadata": {
      "needs_background": "light"
     },
     "output_type": "display_data"
    }
   ],
   "source": [
    "plt.figure()\n",
    "plt.semilogx(all_lyap1, all_scores3, \".\")\n",
    "\n",
    "\n",
    "plt.figure()\n",
    "plt.semilogx(all_lyap2, all_scores3, \".\")"
   ]
  },
  {
   "cell_type": "code",
   "execution_count": 41,
   "metadata": {},
   "outputs": [
    {
     "data": {
      "text/plain": [
       "[<matplotlib.lines.Line2D at 0x7fbd92d7d2e0>]"
      ]
     },
     "execution_count": 41,
     "metadata": {},
     "output_type": "execute_result"
    },
    {
     "data": {
      "image/png": "[encoded data removed]",
      "text/plain": [
       "<Figure size 432x288 with 1 Axes>"
      ]
     },
     "metadata": {
      "needs_background": "light"
     },
     "output_type": "display_data"
    }
   ],
   "source": [
    "plt.semilogx(all_lyap2, all_scores1, \".\")"
   ]
  },
  {
   "cell_type": "code",
   "execution_count": 2,
   "metadata": {},
   "outputs": [],
   "source": [
    "import dysts.flows\n",
    "\n",
    "from dysts.flows import *\n",
    "\n",
    "mr = 60 # number of response systems\n",
    "\n",
    "# driver system\n",
    "\n",
    "# response system\n",
    "# random initial conditions\n",
    "# how to couple in driver?]\n",
    "\n",
    "eq_driver = Rossler()\n",
    "eq_response = Lorenz()\n",
    "\n",
    "sol_driver_pure = eq_driver.make_trajectory(1000)\n",
    "sol_response_pure = eq_response.make_trajectory(1000)\n",
    "amp_drive = np.mean(np.abs(sol_driver_pure), axis=0)\n",
    "amp_response = np.mean(np.abs(sol_response_pure), axis=0)\n",
    "\n",
    "from dysts.utils import integrate_dyn\n",
    "\n",
    "nd = len(eq_driver.ic)\n",
    "nr = len(eq_response.ic)\n",
    "\n",
    "\n",
    "# X\n",
    "\n",
    "# integrate_dyn\n"
   ]
  },
  {
   "cell_type": "code",
   "execution_count": 30,
   "metadata": {},
   "outputs": [
    {
     "name": "stderr",
     "output_type": "stream",
     "text": [
      "/Users/williamgilpin/miniconda3/envs/shrec/lib/python3.8/site-packages/dysts/base.py:232: UserWarning: Expect slowdown due to excessive integration required; scale factor 1587.2891671013736\n",
      "  warnings.warn(\n"
     ]
    }
   ],
   "source": [
    "from dysts.analysis import sample_initial_conditions\n",
    "from benchmark_utils import print_dict, score_ts\n",
    "\n",
    "ic_vals = sample_initial_conditions(eq_response, mr)\n",
    "\n",
    "all_rhs = list()\n",
    "for ic in ic_vals:\n",
    "    ds = getattr(dysts.flows, eq_response.name)()\n",
    "    ds.ic = ic\n",
    "    all_rhs.append(ds.rhs)\n",
    "\n",
    "def skew_rhs(t, X, kappa=1e-2):\n",
    "    Xd, Xr = X[:nd], X[nd:]\n",
    "    \n",
    "    Xr += kappa * Xd[0] * (np.tile(amp_response, mr) / amp_drive[0]) # drive with first variable. Scales by typical amplitude\n",
    "\n",
    "    drive_out = eq_driver(Xd, t)\n",
    "    all_out = list()\n",
    "    for i, rhs in enumerate(all_rhs):\n",
    "        rhs_out = rhs(Xr[(i*nr):((i + 1) * nr)], t)\n",
    "        all_out.append(rhs_out)\n",
    "    all_out = [drive_out] + all_out\n",
    "    out = np.concatenate(all_out)\n",
    "\n",
    "    return out\n",
    "\n",
    "all_ic = np.concatenate([np.array(eq_driver.ic), np.ravel(ic_vals)])\n",
    "\n",
    "# out_ex = skew_rhs(0, all_ic)\n",
    "\n"
   ]
  },
  {
   "cell_type": "code",
   "execution_count": 1,
   "metadata": {},
   "outputs": [
    {
     "ename": "NameError",
     "evalue": "name 'skew_rhs' is not defined",
     "output_type": "error",
     "traceback": [
      "\u001b[0;31m---------------------------------------------------------------------------\u001b[0m",
      "\u001b[0;31mNameError\u001b[0m                                 Traceback (most recent call last)",
      "\u001b[1;32m/Users/williamgilpin/program_repos/shrec/chaos_correlation.ipynb Cell 1'\u001b[0m in \u001b[0;36m<cell line: 3>\u001b[0;34m()\u001b[0m\n\u001b[1;32m      <a href='vscode-notebook-cell:/Users/williamgilpin/program_repos/shrec/chaos_correlation.ipynb#ch0000000?line=0'>1</a>\u001b[0m \u001b[39mfrom\u001b[39;00m \u001b[39mscipy\u001b[39;00m\u001b[39m.\u001b[39;00m\u001b[39mintegrate\u001b[39;00m \u001b[39mimport\u001b[39;00m solve_ivp\n\u001b[0;32m----> <a href='vscode-notebook-cell:/Users/williamgilpin/program_repos/shrec/chaos_correlation.ipynb#ch0000000?line=2'>3</a>\u001b[0m sol \u001b[39m=\u001b[39m solve_ivp(skew_rhs, [\u001b[39m0\u001b[39m, \u001b[39m50\u001b[39m], all_ic, t_eval\u001b[39m=\u001b[39mnp\u001b[39m.\u001b[39mlinspace(\u001b[39m0\u001b[39m, \u001b[39m50\u001b[39m, \u001b[39m2000\u001b[39m))\n\u001b[1;32m      <a href='vscode-notebook-cell:/Users/williamgilpin/program_repos/shrec/chaos_correlation.ipynb#ch0000000?line=3'>4</a>\u001b[0m sol_drive \u001b[39m=\u001b[39m sol\u001b[39m.\u001b[39my[:nd]\n\u001b[1;32m      <a href='vscode-notebook-cell:/Users/williamgilpin/program_repos/shrec/chaos_correlation.ipynb#ch0000000?line=4'>5</a>\u001b[0m sol_response \u001b[39m=\u001b[39m sol\u001b[39m.\u001b[39my[nd:]\u001b[39m#[::nr]\u001b[39;00m\n",
      "\u001b[0;31mNameError\u001b[0m: name 'skew_rhs' is not defined"
     ]
    }
   ],
   "source": [
    "from scipy.integrate import solve_ivp\n",
    "\n",
    "sol = solve_ivp(skew_rhs, [0, 50], all_ic, t_eval=np.linspace(0, 50, 2000))\n",
    "sol_drive = sol.y[:nd]\n",
    "sol_response = sol.y[nd:]#[::nr]\n",
    "\n",
    "\n",
    "plt.figure()\n",
    "plt.plot(sol_drive[0], sol_drive[1])\n",
    "\n",
    "plt.figure()\n",
    "plt.plot(sol_response[0], sol_response[1])\n",
    "\n",
    "# heatplot: driver lyapunov, response lyapunov, accuracy score\n",
    "\n",
    "\n",
    "\n",
    "## reconstruct signal\n",
    "\n",
    "model = RecurrenceManifold(random_state=0, scale=np.log(2))\n",
    "label_vals0 = model.fit_predict(sol_response.T)\n",
    "\n",
    "plt.figure()\n",
    "plt.plot(label_vals0)\n",
    "\n",
    "plt.figure()\n",
    "plt.plot(sol_drive[0])\n",
    "\n",
    "\n",
    "plt.figure()\n",
    "plt.plot(label_vals0, sol_drive[0], '.')\n",
    "\n",
    "\n",
    "print(scipy.stats.spearmanr(label_vals0, sol_drive[0]).correlation)\n",
    "\n",
    "\n",
    "from benchmark_utils import print_dict, score_ts\n",
    "print_dict(score_ts(label_vals0, sol_drive[0]))\n"
   ]
  },
  {
   "cell_type": "code",
   "execution_count": 198,
   "metadata": {},
   "outputs": [
    {
     "data": {
      "text/plain": [
       "-0.08919369811777685"
      ]
     },
     "execution_count": 198,
     "metadata": {},
     "output_type": "execute_result"
    }
   ],
   "source": [
    "\n",
    "0.01 mutual_info\n",
    "2.94 conditional_info\n",
    "-0.52 conditional_info_back\n",
    "4.85 mae\n",
    "8156.47 mape\n",
    "607.59 marre\n",
    "31.19 mse\n",
    "-1403.42 r2_score\n",
    "5.58 rmse\n",
    "186.08 smape\n",
    "0.02 spearman\n",
    "0.01 pearson\n",
    "0.01 kendalltau\n",
    "0.37 sync\n",
    "0.05 coherence\n",
    "0.08 coherence_phase\n",
    "0.01 cross forecast error\n",
    "0.1 cross forecast error neural\n",
    "0.05 cross forecast error neural 2\n",
    "\n",
    "\n",
    "0.09 mutual_info # good\n",
    "3.05 conditional_info # meh\n",
    "-0.84 conditional_info_back  # bad\n",
    "4.85 mae\n",
    "23438.65 mape # good\n",
    "958.94 marre\n",
    "31.14 mse\n",
    "-2716.27 r2_score\n",
    "5.58 rmse\n",
    "191.72 smape # bad\n",
    "-0.09 spearman\n",
    "-0.04 pearson\n",
    "-0.07 kendalltau\n",
    "0.48 sync # ok\n",
    "0.08 coherence\n",
    "0.96 coherence_phase # good\n",
    "0.1 cross forecast error # meh\n",
    "0.19 cross forecast error neural # good\n",
    "0.39 cross forecast error neural 2 # good\n",
    "\n",
    "\n",
    "-0.1707540816885204\n",
    "0.23 mutual_info # good\n",
    "2.71 conditional_info\n",
    "-1.01 conditional_info_back\n",
    "4.86 mae\n",
    "11036.05 mape\n",
    "672.16 marre\n",
    "31.03 mse\n",
    "-1411.29 r2_score\n",
    "5.57 rmse\n",
    "189.66 smape\n",
    "-0.17 spearman\n",
    "0.08 pearson\n",
    "-0.22 kendalltau\n",
    "0.47 sync # hmm\n",
    "0.11 coherence\n",
    "0.96 coherence_phase # hmm\n",
    "0.38 cross forecast error # hmm\n",
    "0.08 cross forecast error neural # hmm\n",
    "0.55 cross forecast error neural 2 # good\n"
   ]
  },
  {
   "cell_type": "code",
   "execution_count": 109,
   "metadata": {},
   "outputs": [
    {
     "ename": "NameError",
     "evalue": "name 'X_measure' is not defined",
     "output_type": "error",
     "traceback": [
      "\u001b[0;31m---------------------------------------------------------------------------\u001b[0m",
      "\u001b[0;31mNameError\u001b[0m                                 Traceback (most recent call last)",
      "\u001b[1;32m/Users/williamgilpin/program_repos/shrec/chaos_correlation.ipynb Cell 9'\u001b[0m in \u001b[0;36m<cell line: 2>\u001b[0;34m()\u001b[0m\n\u001b[1;32m      <a href='vscode-notebook-cell:/Users/williamgilpin/program_repos/shrec/chaos_correlation.ipynb#ch0000009?line=0'>1</a>\u001b[0m \u001b[39m# vals_response = X_measure.T\u001b[39;00m\n\u001b[0;32m----> <a href='vscode-notebook-cell:/Users/williamgilpin/program_repos/shrec/chaos_correlation.ipynb#ch0000009?line=1'>2</a>\u001b[0m true_data \u001b[39m=\u001b[39m  X_measure\u001b[39m.\u001b[39mT\n\u001b[1;32m      <a href='vscode-notebook-cell:/Users/williamgilpin/program_repos/shrec/chaos_correlation.ipynb#ch0000009?line=2'>3</a>\u001b[0m true_driver0 \u001b[39m=\u001b[39m sol_drive[:, \u001b[39m0\u001b[39m]\u001b[39m.\u001b[39mT\n\u001b[1;32m      <a href='vscode-notebook-cell:/Users/williamgilpin/program_repos/shrec/chaos_correlation.ipynb#ch0000009?line=4'>5</a>\u001b[0m \u001b[39mfrom\u001b[39;00m \u001b[39msklearn\u001b[39;00m\u001b[39m.\u001b[39;00m\u001b[39mdecomposition\u001b[39;00m \u001b[39mimport\u001b[39;00m PCA\n",
      "\u001b[0;31mNameError\u001b[0m: name 'X_measure' is not defined"
     ]
    }
   ],
   "source": [
    "# vals_response = X_measure.T\n",
    "true_data =  X_measure.T\n",
    "true_driver0 = sol_drive[:, 0].T\n",
    "\n",
    "from sklearn.decomposition import PCA\n",
    "embedding = PCA()\n",
    "pca_vals = embedding.fit_transform(true_data)[:, 0]\n",
    "\n",
    "\n",
    "model = RecurrenceManifold(random_state=0, scale=np.log(2))\n",
    "\n",
    "curr_time()\n",
    "label_vals0 = model.fit_predict(true_data)\n",
    "curr_time()\n",
    "\n",
    "\n",
    "plt.figure()\n",
    "plt.plot(pca_vals, 'k')\n",
    "plt.title(\"PCA\")\n",
    "\n",
    "plt.figure()\n",
    "plt.plot(label_vals0, 'k')\n",
    "plt.title(\"Labels\")\n",
    "\n",
    "plt.figure()\n",
    "plt.plot(true_driver0, 'k')\n",
    "plt.title(\"true\")\n",
    "\n",
    "plt.figure()\n",
    "plt.plot(true_driver0, label_vals0, '.k', markersize=2)\n",
    "plt.title(\"Labels vs True\")\n",
    "\n",
    "\n",
    "plt.figure()\n",
    "plt.plot(true_driver0, pca_vals, '.k', markersize=2)\n",
    "plt.title(\"PCA vs True\")\n"
   ]
  },
  {
   "cell_type": "code",
   "execution_count": 52,
   "metadata": {},
   "outputs": [
    {
     "data": {
      "text/plain": [
       "[<matplotlib.lines.Line2D at 0x7fabea0f0190>]"
      ]
     },
     "execution_count": 52,
     "metadata": {},
     "output_type": "execute_result"
    },
    {
     "data": {
      "image/png": "[encoded data removed]",
      "text/plain": [
       "<Figure size 432x288 with 1 Axes>"
      ]
     },
     "metadata": {
      "needs_background": "light"
     },
     "output_type": "display_data"
    }
   ],
   "source": [
    "plt.plot"
   ]
  },
  {
   "cell_type": "code",
   "execution_count": 30,
   "metadata": {},
   "outputs": [
    {
     "data": {
      "text/plain": [
       "array([ -9.7869288, -15.03852  ,  20.533978 ])"
      ]
     },
     "execution_count": 30,
     "metadata": {},
     "output_type": "execute_result"
    }
   ],
   "source": [
    "np.array(eq_driver.ic)"
   ]
  },
  {
   "cell_type": "code",
   "execution_count": 29,
   "metadata": {},
   "outputs": [
    {
     "data": {
      "text/plain": [
       "array([-9.78692880e+00, -1.50385200e+01,  2.05339780e+01, -3.97999123e+00,\n",
       "        2.83627248e-01,  2.08655022e-02, -4.39168105e+00,  3.51068666e+00,\n",
       "        2.06928960e-02,  7.35789709e+00,  1.31534593e+00,  8.57249749e-01,\n",
       "       -7.06435815e-01, -3.83823882e+00,  2.90047244e-02,  3.39480030e-01,\n",
       "       -3.68649058e+00,  3.38175004e-02,  7.63559544e+00,  4.03753042e-01,\n",
       "        7.16542351e-01, -1.80957285e-01,  6.16525010e+00,  1.10374040e+00,\n",
       "        2.47144354e+00, -6.73449280e+00,  4.47090660e-02,  2.86451048e+00,\n",
       "       -4.33398521e+00,  5.23466016e-02, -7.17776656e+00,  4.40339892e-01,\n",
       "        1.56253327e-02, -6.61032806e+00,  2.89020928e+00,  1.66548943e-02,\n",
       "        9.28617581e+00, -1.46433566e+00,  1.22670180e+00, -3.48654650e+00,\n",
       "        5.12982381e+00,  4.43292663e-02, -2.66528458e+00, -3.63776951e-02,\n",
       "        2.53607699e-02,  1.01533670e+00,  5.77617087e+00,  7.80680046e-02,\n",
       "       -3.29455994e+00, -1.12064312e+00,  2.20510301e-02,  2.91316560e+00,\n",
       "        3.13375858e+00,  9.70780869e-02, -1.13789550e+00, -7.17809184e+00,\n",
       "        2.61533328e-02, -2.19853401e+00,  6.44412384e+00,  1.52154222e-01,\n",
       "       -2.86896658e+00,  1.14336499e+00,  3.15256836e-02,  8.34767939e+00,\n",
       "       -1.71574938e+00,  5.79293898e-01, -1.26210465e+00,  5.53185719e+00,\n",
       "        5.59107330e-01,  4.82668367e+00,  4.22954486e+00,  4.90866139e-01,\n",
       "       -8.57735517e-01,  6.49091659e+00,  5.47891480e-01,  4.02406092e+00,\n",
       "       -3.39004213e+00,  7.22551128e-02,  4.56839857e+00,  5.39701660e+00,\n",
       "        3.25272375e+00,  1.10233927e+01, -2.96319038e+00,  2.89094017e+00,\n",
       "       -8.75307215e-01, -8.51375874e+00,  2.65028189e-02, -7.06141024e+00,\n",
       "        1.62806614e+00,  1.58934906e-02, -2.33060311e+00, -3.50403225e+00,\n",
       "        2.38455989e-02, -3.78016109e+00, -1.34105580e+00,  2.08927689e-02,\n",
       "        5.37558520e+00,  4.71396323e+00,  1.49044869e+00,  9.81339554e+00,\n",
       "       -1.32781127e-01,  9.24080446e+00,  5.64464517e+00,  3.04963681e+00,\n",
       "        4.95249942e-01,  8.80266982e+00,  1.16899195e+00,  4.22448064e+00,\n",
       "        1.07685081e+00,  7.40531150e+00,  4.12431146e-01, -6.83110767e+00,\n",
       "       -3.36185863e+00,  1.56894207e-02, -3.33273988e+00,  9.09092529e-01,\n",
       "        2.35106848e-02, -4.82222834e+00,  4.99302653e+00,  2.01436951e-02,\n",
       "        3.61787424e+00, -8.30839081e+00,  5.29437066e-02, -1.71113401e-01,\n",
       "        6.09507157e+00,  5.16566269e-02, -3.44169868e+00, -2.12383110e+00,\n",
       "        2.14564980e-02,  3.30899294e+00, -3.96969175e+00,  5.86420760e-02,\n",
       "        2.50137787e+00,  6.63540819e+00,  1.68502288e+00, -7.05476418e+00,\n",
       "        1.69125286e+00,  1.59075352e-02,  5.74576236e+00,  4.55215761e+00,\n",
       "        3.01255880e+00, -1.42955710e+00, -3.08157964e+00,  2.67191375e-02,\n",
       "       -6.50676888e+00, -2.89043372e+00,  1.61445904e-02, -6.95363329e+00,\n",
       "        1.79372654e+00,  1.60498986e-02,  3.91193534e+00, -1.65302441e+00,\n",
       "        7.89229696e-02])"
      ]
     },
     "execution_count": 29,
     "metadata": {},
     "output_type": "execute_result"
    }
   ],
   "source": []
  },
  {
   "cell_type": "code",
   "execution_count": 23,
   "metadata": {},
   "outputs": [
    {
     "data": {
      "text/plain": [
       "(1.763016869799321, 19.222623839933878, -0.04047103054918599)"
      ]
     },
     "execution_count": 23,
     "metadata": {},
     "output_type": "execute_result"
    }
   ],
   "source": [
    "eq_driver.rhs(np.random.random(3), 0)"
   ]
  },
  {
   "cell_type": "code",
   "execution_count": 3,
   "metadata": {},
   "outputs": [
    {
     "name": "stdout",
     "output_type": "stream",
     "text": [
      "\u001b[0;31mSignature:\u001b[0m \u001b[0meq_driver\u001b[0m\u001b[0;34m.\u001b[0m\u001b[0mrhs\u001b[0m\u001b[0;34m(\u001b[0m\u001b[0mX\u001b[0m\u001b[0;34m,\u001b[0m \u001b[0mt\u001b[0m\u001b[0;34m)\u001b[0m\u001b[0;34m\u001b[0m\u001b[0;34m\u001b[0m\u001b[0m\n",
      "\u001b[0;31mDocstring:\u001b[0m The right hand side of a dynamical equation\n",
      "\u001b[0;31mFile:\u001b[0m      ~/miniconda3/envs/shrec/lib/python3.8/site-packages/dysts/base.py\n",
      "\u001b[0;31mType:\u001b[0m      method\n"
     ]
    }
   ],
   "source": [
    "?eq_driver.rhs"
   ]
  },
  {
   "cell_type": "code",
   "execution_count": null,
   "metadata": {},
   "outputs": [],
   "source": []
  }
 ],
 "metadata": {
  "kernelspec": {
   "display_name": "Python 3.8.13 ('shrec')",
   "language": "python",
   "name": "python3"
  },
  "language_info": {
   "codemirror_mode": {
    "name": "ipython",
    "version": 3
   },
   "file_extension": ".py",
   "mimetype": "text/x-python",
   "name": "python",
   "nbconvert_exporter": "python",
   "pygments_lexer": "ipython3",
   "version": "3.8.13"
  },
  "orig_nbformat": 4,
  "vscode": {
   "interpreter": {
    "hash": "b0b85ae5a79a15cea713c59615a4e50c2f9a30e7f772b95d4fd102d39e263f71"
   }
  }
 },
 "nbformat": 4,
 "nbformat_minor": 2
}
