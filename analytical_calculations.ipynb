{
 "cells": [
  {
   "cell_type": "code",
   "execution_count": 1,
   "metadata": {},
   "outputs": [],
   "source": [
    "%matplotlib inline\n",
    "\n",
    "import matplotlib.pyplot as plt\n",
    "import numpy as np\n",
    "# from numba import jit\n",
    "\n",
    "from utils import *\n",
    "\n",
    "\n",
    "%load_ext autoreload\n",
    "%autoreload 2"
   ]
  },
  {
   "cell_type": "markdown",
   "metadata": {},
   "source": [
    "\n",
    "\"Detection of periodic driving in nonautonomous difference equations\""
   ]
  },
  {
   "cell_type": "code",
   "execution_count": null,
   "metadata": {},
   "outputs": [
    {
     "data": {
      "text/plain": [
       "0.0"
      ]
     },
     "execution_count": 206,
     "metadata": {},
     "output_type": "execute_result"
    }
   ],
   "source": [
    "np.sum(np.abs(pp2 - pp1))"
   ]
  },
  {
   "cell_type": "code",
   "execution_count": null,
   "metadata": {},
   "outputs": [
    {
     "data": {
      "text/plain": [
       "(1, 2998, 3)"
      ]
     },
     "execution_count": 168,
     "metadata": {},
     "output_type": "execute_result"
    }
   ],
   "source": [
    "guide_attractor[None, ...].shape"
   ]
  },
  {
   "cell_type": "code",
   "execution_count": null,
   "metadata": {},
   "outputs": [
    {
     "data": {
      "text/plain": [
       "(2998, 1, 3)"
      ]
     },
     "execution_count": 169,
     "metadata": {},
     "output_type": "execute_result"
    }
   ],
   "source": [
    "guide_attractor[:, None, :].shape"
   ]
  },
  {
   "cell_type": "code",
   "execution_count": null,
   "metadata": {},
   "outputs": [
    {
     "data": {
      "text/plain": [
       "(4, 2998, 2998, 3)"
      ]
     },
     "execution_count": 171,
     "metadata": {},
     "output_type": "execute_result"
    }
   ],
   "source": [
    ".shape"
   ]
  },
  {
   "cell_type": "code",
   "execution_count": null,
   "metadata": {},
   "outputs": [
    {
     "data": {
      "text/plain": [
       "(4, 1, 2998, 3)"
      ]
     },
     "execution_count": 163,
     "metadata": {},
     "output_type": "execute_result"
    }
   ],
   "source": [
    ".shape"
   ]
  },
  {
   "cell_type": "code",
   "execution_count": null,
   "metadata": {},
   "outputs": [
    {
     "data": {
      "text/plain": [
       "0.13563132050675042"
      ]
     },
     "execution_count": 419,
     "metadata": {},
     "output_type": "execute_result"
    }
   ],
   "source": [
    "np.percentile(np.ravel(dist_mat), 1)"
   ]
  },
  {
   "cell_type": "code",
   "execution_count": null,
   "metadata": {},
   "outputs": [
    {
     "data": {
      "text/plain": [
       "0.1"
      ]
     },
     "execution_count": 424,
     "metadata": {},
     "output_type": "execute_result"
    }
   ],
   "source": [
    "0.005 * 10 * 2"
   ]
  },
  {
   "cell_type": "code",
   "execution_count": null,
   "metadata": {},
   "outputs": [
    {
     "data": {
      "text/plain": [
       "0.1780797383489919"
      ]
     },
     "execution_count": 421,
     "metadata": {},
     "output_type": "execute_result"
    }
   ],
   "source": [
    "np.percentile(np.ravel(dist_mat), 1)"
   ]
  },
  {
   "cell_type": "code",
   "execution_count": 213,
   "metadata": {},
   "outputs": [
    {
     "data": {
      "text/plain": [
       "array([0.001     , 0.00127427, 0.00162378, 0.00206914, 0.00263665,\n",
       "       0.00335982, 0.00428133, 0.00545559, 0.00695193, 0.00885867,\n",
       "       0.01128838, 0.0143845 , 0.01832981, 0.02335721, 0.02976351,\n",
       "       0.0379269 , 0.0483293 , 0.06158482, 0.078476  , 0.1       ])"
      ]
     },
     "execution_count": 213,
     "metadata": {},
     "output_type": "execute_result"
    }
   ],
   "source": [
    "neighbors ~ eps^3\n",
    "\n",
    "noise ~ neighbors ?\n",
    "noise ~ eps"
   ]
  },
  {
   "cell_type": "code",
   "execution_count": null,
   "metadata": {},
   "outputs": [],
   "source": [
    "np.mean(dist_mat_min)**3"
   ]
  },
  {
   "cell_type": "code",
   "execution_count": 235,
   "metadata": {},
   "outputs": [],
   "source": [
    "k_neighbors = 5\n",
    "volume_eps = (4/3) * np.pi * eps**3\n",
    "local_dist = np.mean(np.sort(dist_mat_min, axis=0)[:k_neighbors])\n",
    "point_density = k_neighbors / (4/3) * np.pi * local_dist**3\n",
    "expected_neighbors = point_density * volume_eps"
   ]
  },
  {
   "cell_type": "code",
   "execution_count": 234,
   "metadata": {},
   "outputs": [
    {
     "data": {
      "text/plain": [
       "0.03715835938420876"
      ]
     },
     "execution_count": 234,
     "metadata": {},
     "output_type": "execute_result"
    }
   ],
   "source": [
    "noise_distance = 0.1\n",
    "volume_noise = (4/3) * np.pi * noise_distance**3\n"
   ]
  },
  {
   "cell_type": "code",
   "execution_count": 20,
   "metadata": {},
   "outputs": [
    {
     "ename": "KeyboardInterrupt",
     "evalue": "",
     "output_type": "error",
     "traceback": [
      "\u001b[0;31m---------------------------------------------------------------------------\u001b[0m",
      "\u001b[0;31mKeyboardInterrupt\u001b[0m                         Traceback (most recent call last)",
      "\u001b[0;32m/var/folders/g_/3gcjjjc12l9cjdh8drtctrdm0000gp/T/ipykernel_38190/1702530180.py\u001b[0m in \u001b[0;36m<module>\u001b[0;34m\u001b[0m\n\u001b[1;32m     35\u001b[0m         \u001b[0;31m#tolerance_vals.append(np.std(np.diff(guide_attractor, axis=0)))\u001b[0m\u001b[0;34m\u001b[0m\u001b[0;34m\u001b[0m\u001b[0;34m\u001b[0m\u001b[0m\n\u001b[1;32m     36\u001b[0m \u001b[0;34m\u001b[0m\u001b[0m\n\u001b[0;32m---> 37\u001b[0;31m         \u001b[0mtolerance_vals\u001b[0m\u001b[0;34m.\u001b[0m\u001b[0mappend\u001b[0m\u001b[0;34m(\u001b[0m\u001b[0mnp\u001b[0m\u001b[0;34m.\u001b[0m\u001b[0mpercentile\u001b[0m\u001b[0;34m(\u001b[0m\u001b[0mnp\u001b[0m\u001b[0;34m.\u001b[0m\u001b[0mravel\u001b[0m\u001b[0;34m(\u001b[0m\u001b[0mdist_mat\u001b[0m\u001b[0;34m)\u001b[0m\u001b[0;34m,\u001b[0m \u001b[0;36m1\u001b[0m\u001b[0;34m)\u001b[0m\u001b[0;34m)\u001b[0m\u001b[0;34m\u001b[0m\u001b[0;34m\u001b[0m\u001b[0m\n\u001b[0m\u001b[1;32m     38\u001b[0m \u001b[0;31m#         fvals, psd = periodogram(guide_attractor[:, 0], fs=1)\u001b[0m\u001b[0;34m\u001b[0m\u001b[0;34m\u001b[0m\u001b[0;34m\u001b[0m\u001b[0m\n\u001b[1;32m     39\u001b[0m \u001b[0;31m#         halflen = int(len(guide_attractor[:, 0])/2)\u001b[0m\u001b[0;34m\u001b[0m\u001b[0;34m\u001b[0m\u001b[0;34m\u001b[0m\u001b[0m\n",
      "\u001b[0;32m<__array_function__ internals>\u001b[0m in \u001b[0;36mpercentile\u001b[0;34m(*args, **kwargs)\u001b[0m\n",
      "\u001b[0;32m~/miniconda3/envs/ndyn/lib/python3.8/site-packages/numpy/lib/function_base.py\u001b[0m in \u001b[0;36mpercentile\u001b[0;34m(a, q, axis, out, overwrite_input, interpolation, keepdims)\u001b[0m\n\u001b[1;32m   3816\u001b[0m     \u001b[0;32mif\u001b[0m \u001b[0;32mnot\u001b[0m \u001b[0m_quantile_is_valid\u001b[0m\u001b[0;34m(\u001b[0m\u001b[0mq\u001b[0m\u001b[0;34m)\u001b[0m\u001b[0;34m:\u001b[0m\u001b[0;34m\u001b[0m\u001b[0;34m\u001b[0m\u001b[0m\n\u001b[1;32m   3817\u001b[0m         \u001b[0;32mraise\u001b[0m \u001b[0mValueError\u001b[0m\u001b[0;34m(\u001b[0m\u001b[0;34m\"Percentiles must be in the range [0, 100]\"\u001b[0m\u001b[0;34m)\u001b[0m\u001b[0;34m\u001b[0m\u001b[0;34m\u001b[0m\u001b[0m\n\u001b[0;32m-> 3818\u001b[0;31m     return _quantile_unchecked(\n\u001b[0m\u001b[1;32m   3819\u001b[0m         a, q, axis, out, overwrite_input, interpolation, keepdims)\n\u001b[1;32m   3820\u001b[0m \u001b[0;34m\u001b[0m\u001b[0m\n",
      "\u001b[0;32m~/miniconda3/envs/ndyn/lib/python3.8/site-packages/numpy/lib/function_base.py\u001b[0m in \u001b[0;36m_quantile_unchecked\u001b[0;34m(a, q, axis, out, overwrite_input, interpolation, keepdims)\u001b[0m\n\u001b[1;32m   3935\u001b[0m                         interpolation='linear', keepdims=False):\n\u001b[1;32m   3936\u001b[0m     \u001b[0;34m\"\"\"Assumes that q is in [0, 1], and is an ndarray\"\"\"\u001b[0m\u001b[0;34m\u001b[0m\u001b[0;34m\u001b[0m\u001b[0m\n\u001b[0;32m-> 3937\u001b[0;31m     r, k = _ureduce(a, func=_quantile_ureduce_func, q=q, axis=axis, out=out,\n\u001b[0m\u001b[1;32m   3938\u001b[0m                     \u001b[0moverwrite_input\u001b[0m\u001b[0;34m=\u001b[0m\u001b[0moverwrite_input\u001b[0m\u001b[0;34m,\u001b[0m\u001b[0;34m\u001b[0m\u001b[0;34m\u001b[0m\u001b[0m\n\u001b[1;32m   3939\u001b[0m                     interpolation=interpolation)\n",
      "\u001b[0;32m~/miniconda3/envs/ndyn/lib/python3.8/site-packages/numpy/lib/function_base.py\u001b[0m in \u001b[0;36m_ureduce\u001b[0;34m(a, func, **kwargs)\u001b[0m\n\u001b[1;32m   3513\u001b[0m         \u001b[0mkeepdim\u001b[0m \u001b[0;34m=\u001b[0m \u001b[0;34m(\u001b[0m\u001b[0;36m1\u001b[0m\u001b[0;34m,\u001b[0m\u001b[0;34m)\u001b[0m \u001b[0;34m*\u001b[0m \u001b[0ma\u001b[0m\u001b[0;34m.\u001b[0m\u001b[0mndim\u001b[0m\u001b[0;34m\u001b[0m\u001b[0;34m\u001b[0m\u001b[0m\n\u001b[1;32m   3514\u001b[0m \u001b[0;34m\u001b[0m\u001b[0m\n\u001b[0;32m-> 3515\u001b[0;31m     \u001b[0mr\u001b[0m \u001b[0;34m=\u001b[0m \u001b[0mfunc\u001b[0m\u001b[0;34m(\u001b[0m\u001b[0ma\u001b[0m\u001b[0;34m,\u001b[0m \u001b[0;34m**\u001b[0m\u001b[0mkwargs\u001b[0m\u001b[0;34m)\u001b[0m\u001b[0;34m\u001b[0m\u001b[0;34m\u001b[0m\u001b[0m\n\u001b[0m\u001b[1;32m   3516\u001b[0m     \u001b[0;32mreturn\u001b[0m \u001b[0mr\u001b[0m\u001b[0;34m,\u001b[0m \u001b[0mkeepdim\u001b[0m\u001b[0;34m\u001b[0m\u001b[0;34m\u001b[0m\u001b[0m\n\u001b[1;32m   3517\u001b[0m \u001b[0;34m\u001b[0m\u001b[0m\n",
      "\u001b[0;32m~/miniconda3/envs/ndyn/lib/python3.8/site-packages/numpy/lib/function_base.py\u001b[0m in \u001b[0;36m_quantile_ureduce_func\u001b[0;34m(***failed resolving arguments***)\u001b[0m\n\u001b[1;32m   4045\u001b[0m         \u001b[0;32mif\u001b[0m \u001b[0mnp\u001b[0m\u001b[0;34m.\u001b[0m\u001b[0missubdtype\u001b[0m\u001b[0;34m(\u001b[0m\u001b[0ma\u001b[0m\u001b[0;34m.\u001b[0m\u001b[0mdtype\u001b[0m\u001b[0;34m,\u001b[0m \u001b[0mnp\u001b[0m\u001b[0;34m.\u001b[0m\u001b[0minexact\u001b[0m\u001b[0;34m)\u001b[0m\u001b[0;34m:\u001b[0m\u001b[0;34m\u001b[0m\u001b[0;34m\u001b[0m\u001b[0m\n\u001b[1;32m   4046\u001b[0m             \u001b[0;31m# may contain nan, which would sort to the end\u001b[0m\u001b[0;34m\u001b[0m\u001b[0;34m\u001b[0m\u001b[0;34m\u001b[0m\u001b[0m\n\u001b[0;32m-> 4047\u001b[0;31m             ap.partition(concatenate((\n\u001b[0m\u001b[1;32m   4048\u001b[0m                 \u001b[0mindices_below\u001b[0m\u001b[0;34m.\u001b[0m\u001b[0mravel\u001b[0m\u001b[0;34m(\u001b[0m\u001b[0;34m)\u001b[0m\u001b[0;34m,\u001b[0m \u001b[0mindices_above\u001b[0m\u001b[0;34m.\u001b[0m\u001b[0mravel\u001b[0m\u001b[0;34m(\u001b[0m\u001b[0;34m)\u001b[0m\u001b[0;34m,\u001b[0m \u001b[0;34m[\u001b[0m\u001b[0;34m-\u001b[0m\u001b[0;36m1\u001b[0m\u001b[0;34m]\u001b[0m\u001b[0;34m\u001b[0m\u001b[0;34m\u001b[0m\u001b[0m\n\u001b[1;32m   4049\u001b[0m             )), axis=0)\n",
      "\u001b[0;31mKeyboardInterrupt\u001b[0m: "
     ]
    }
   ],
   "source": [
    "# \n",
    "eps_vals = np.logspace(-5, -1, 10)\n",
    "nu_vals = np.logspace(-5, 0, 30)\n",
    "#eps = 0.001\n",
    "\n",
    "start_vals = list()\n",
    "end_vals = list()\n",
    "\n",
    "turn_vals = list()\n",
    "\n",
    "all_tolerance_vals = list()\n",
    "\n",
    "for eps in eps_vals:\n",
    "\n",
    "    fraction_neighbors = list()\n",
    "    tolerance_vals = list()\n",
    "    for nu_val in nu_vals:\n",
    "        guide_attractor = np.copy(all_attractors[-1]) \n",
    "        guide_attractor += nu_val * (np.random.random(guide_attractor.shape) - 0.5)\n",
    "\n",
    "        dist_mat = np.sqrt(\n",
    "            np.sum(\n",
    "                (guide_attractor[None, ...] - guide_attractor[:, None, :])**2, \n",
    "                axis=-1\n",
    "            )\n",
    "        )\n",
    "        dist_mat_bin = np.copy(dist_mat < eps).astype(int)\n",
    "        frac_n = np.sum(dist_mat_bin) / float(dist_mat_bin.size)\n",
    "        fraction_neighbors.append(frac_n)\n",
    "        \n",
    "        #tolerance_vals.append(np.sqrt(np.median((np.diff(guide_attractor, axis=0))**2)))\n",
    "        #tolerance_vals.append(np.mean(np.abs((np.diff(guide_attractor, axis=0))**2)))\n",
    "        #tolerance_vals.append(np.sqrt(np.mean((np.diff(guide_attractor, axis=0))**2)))\n",
    "        #tolerance_vals.append(np.mean(dist_mat**2))\n",
    "        #tolerance_vals.append(np.std(np.diff(guide_attractor, axis=0)))\n",
    "        \n",
    "        tolerance_vals.append(np.percentile(np.ravel(dist_mat), 1))\n",
    "#         fvals, psd = periodogram(guide_attractor[:, 0], fs=1)\n",
    "#         halflen = int(len(guide_attractor[:, 0])/2)\n",
    "#         tolerance_vals.append(psd[halflen])\n",
    "    \n",
    "    all_tolerance_vals.append(tolerance_vals)\n",
    "#     tolerance_vals.append(np.std((np.diff(guide_attractor, axis=0))**2))\n",
    "#     tolerance_vals.append(np.mean(np.abs((anp.diff(guide_attractor, axis=0))**2)))\n",
    "\n",
    "#     halflen = int(len(guide_attractor[:, 0])/2)\n",
    "#     fvals, psd = periodogram(guide_attractor[:, 0], fs=1)\n",
    "#     tolerance_vals.append(psd)\n",
    "\n",
    "    #tolerance_vals.append(np.mean(dist_mat**2))\n",
    "    \n",
    "    tolerance_vals.append(np.std(np.diff(guide_attractor[:, 0])))\n",
    "\n",
    "    turn_vals.append(nu_vals[np.argmin(np.diff(fraction_neighbors))])\n",
    "    start_vals.append(fraction_neighbors[0])\n",
    "    end_vals.append(fraction_neighbors[-1])\n",
    "    plt.loglog(nu_vals, fraction_neighbors, '.')"
   ]
  },
  {
   "cell_type": "code",
   "execution_count": 468,
   "metadata": {},
   "outputs": [],
   "source": [
    "data = np.random.random((1000, 8))\n",
    "ww1 = hankel_matrix(data[:, 0], 3)\n",
    "\n",
    "ww = hankel_matrix(data, 3)"
   ]
  },
  {
   "cell_type": "code",
   "execution_count": null,
   "metadata": {},
   "outputs": [],
   "source": [
    "# standardize all time series\n",
    "# pick a fixed epsilon tolerance"
   ]
  },
  {
   "cell_type": "code",
   "execution_count": null,
   "metadata": {},
   "outputs": [
    {
     "data": {
      "text/plain": [
       "0.3880381814234462"
      ]
     },
     "execution_count": 305,
     "metadata": {},
     "output_type": "execute_result"
    }
   ],
   "source": [
    "epsilon=\"auto\"\n",
    "\n",
    "epsilon (float | \"auto\"): Set an explicit neighbor radius, or estimate one using \n",
    "    high-frequency variation within the input data"
   ]
  },
  {
   "cell_type": "code",
   "execution_count": 393,
   "metadata": {},
   "outputs": [
    {
     "data": {
      "text/plain": [
       "0.21107082116811063"
      ]
     },
     "execution_count": 393,
     "metadata": {},
     "output_type": "execute_result"
    }
   ],
   "source": [
    "np.percentile(np.ravel(np.ravel(dist_mat)), 1)"
   ]
  },
  {
   "cell_type": "code",
   "execution_count": 391,
   "metadata": {},
   "outputs": [
    {
     "data": {
      "text/plain": [
       "(array([1.698060e+05, 9.715920e+05, 1.927152e+06, 2.306154e+06,\n",
       "        1.901910e+06, 1.139368e+06, 4.594820e+05, 1.011480e+05,\n",
       "        1.086000e+04, 5.320000e+02]),\n",
       " array([0.        , 0.26425892, 0.52851783, 0.79277675, 1.05703566,\n",
       "        1.32129458, 1.58555349, 1.84981241, 2.11407132, 2.37833024,\n",
       "        2.64258915]),\n",
       " <BarContainer object of 10 artists>)"
      ]
     },
     "execution_count": 391,
     "metadata": {},
     "output_type": "execute_result"
    },
    {
     "data": {
      "image/png": "[encoded data removed]",
      "text/plain": [
       "<Figure size 432x288 with 1 Axes>"
      ]
     },
     "metadata": {
      "needs_background": "light"
     },
     "output_type": "display_data"
    }
   ],
   "source": [
    "plt.hist(np.ravel(dist_mat))"
   ]
  },
  {
   "cell_type": "code",
   "execution_count": 412,
   "metadata": {},
   "outputs": [
    {
     "data": {
      "text/plain": [
       "[<matplotlib.lines.Line2D at 0x7f913b57c610>]"
      ]
     },
     "execution_count": 412,
     "metadata": {},
     "output_type": "execute_result"
    },
    {
     "data": {
      "image/png": "[encoded data removed]",
      "text/plain": [
       "<Figure size 432x288 with 1 Axes>"
      ]
     },
     "metadata": {
      "needs_background": "light"
     },
     "output_type": "display_data"
    }
   ],
   "source": [
    "plt.plot([item[0] for item in all_tolerance_vals])"
   ]
  },
  {
   "cell_type": "code",
   "execution_count": 417,
   "metadata": {},
   "outputs": [
    {
     "data": {
      "image/png": "[encoded data removed]",
      "text/plain": [
       "<Figure size 432x288 with 1 Axes>"
      ]
     },
     "metadata": {
      "needs_background": "light"
     },
     "output_type": "display_data"
    }
   ],
   "source": [
    "for item in all_tolerance_vals:\n",
    "    plt.loglog(nu_vals, item[:-1], '.')"
   ]
  },
  {
   "cell_type": "code",
   "execution_count": 280,
   "metadata": {},
   "outputs": [],
   "source": [
    "from scipy.signal import periodogram"
   ]
  },
  {
   "cell_type": "code",
   "execution_count": 286,
   "metadata": {},
   "outputs": [
    {
     "data": {
      "text/plain": [
       "[<matplotlib.lines.Line2D at 0x7f918cac5b80>]"
      ]
     },
     "execution_count": 286,
     "metadata": {},
     "output_type": "execute_result"
    },
    {
     "data": {
      "image/png": "[encoded data removed]",
      "text/plain": [
       "<Figure size 432x288 with 1 Axes>"
      ]
     },
     "metadata": {
      "needs_background": "light"
     },
     "output_type": "display_data"
    }
   ],
   "source": [
    "plt.plot(fvals)"
   ]
  },
  {
   "cell_type": "code",
   "execution_count": 285,
   "metadata": {},
   "outputs": [
    {
     "data": {
      "text/plain": [
       "[<matplotlib.lines.Line2D at 0x7f90890aeca0>]"
      ]
     },
     "execution_count": 285,
     "metadata": {},
     "output_type": "execute_result"
    },
    {
     "data": {
      "image/png": "[encoded data removed]",
      "text/plain": [
       "<Figure size 432x288 with 1 Axes>"
      ]
     },
     "metadata": {
      "needs_background": "light"
     },
     "output_type": "display_data"
    }
   ],
   "source": [
    "plt.plot(psd)"
   ]
  },
  {
   "cell_type": "code",
   "execution_count": 284,
   "metadata": {},
   "outputs": [
    {
     "data": {
      "text/plain": [
       "array([2.37473972e-30, 9.59177301e-02, 2.08789154e+00, ...,\n",
       "       3.78266727e-01, 3.27400793e-02, 8.66408819e-02])"
      ]
     },
     "execution_count": 284,
     "metadata": {},
     "output_type": "execute_result"
    }
   ],
   "source": []
  },
  {
   "cell_type": "code",
   "execution_count": 274,
   "metadata": {},
   "outputs": [
    {
     "data": {
      "text/plain": [
       "[<matplotlib.lines.Line2D at 0x7f91dc5b3fd0>]"
      ]
     },
     "execution_count": 274,
     "metadata": {},
     "output_type": "execute_result"
    },
    {
     "data": {
      "image/png": "[encoded data removed]",
      "text/plain": [
       "<Figure size 432x288 with 1 Axes>"
      ]
     },
     "metadata": {
      "needs_background": "light"
     },
     "output_type": "display_data"
    }
   ],
   "source": [
    "plt.plot(np.diff(guide_attractor, axis=0)[:, 0])"
   ]
  },
  {
   "cell_type": "code",
   "execution_count": 292,
   "metadata": {},
   "outputs": [
    {
     "data": {
      "text/plain": [
       "[<matplotlib.lines.Line2D at 0x7f91dca62130>]"
      ]
     },
     "execution_count": 292,
     "metadata": {},
     "output_type": "execute_result"
    },
    {
     "data": {
      "image/png": "[encoded data removed]",
      "text/plain": [
       "<Figure size 432x288 with 1 Axes>"
      ]
     },
     "metadata": {
      "needs_background": "light"
     },
     "output_type": "display_data"
    }
   ],
   "source": [
    "plt.figure()\n",
    "plt.loglog(tolerance_vals, '.')"
   ]
  },
  {
   "cell_type": "code",
   "execution_count": 267,
   "metadata": {},
   "outputs": [
    {
     "data": {
      "text/plain": [
       "[<matplotlib.lines.Line2D at 0x7f91b8df13d0>]"
      ]
     },
     "execution_count": 267,
     "metadata": {},
     "output_type": "execute_result"
    },
    {
     "data": {
      "image/png": "[encoded data removed]",
      "text/plain": [
       "<Figure size 432x288 with 1 Axes>"
      ]
     },
     "metadata": {
      "needs_background": "light"
     },
     "output_type": "display_data"
    }
   ],
   "source": [
    "plt.figure()\n",
    "plt.loglog(eps_vals, turn_vals, '.')"
   ]
  },
  {
   "cell_type": "code",
   "execution_count": 262,
   "metadata": {},
   "outputs": [
    {
     "data": {
      "text/plain": [
       "[<matplotlib.lines.Line2D at 0x7f91481cc820>]"
      ]
     },
     "execution_count": 262,
     "metadata": {},
     "output_type": "execute_result"
    },
    {
     "data": {
      "image/png": "[encoded data removed]",
      "text/plain": [
       "<Figure size 432x288 with 1 Axes>"
      ]
     },
     "metadata": {
      "needs_background": "light"
     },
     "output_type": "display_data"
    },
    {
     "data": {
      "image/png": "[encoded data removed]",
      "text/plain": [
       "<Figure size 432x288 with 1 Axes>"
      ]
     },
     "metadata": {
      "needs_background": "light"
     },
     "output_type": "display_data"
    }
   ],
   "source": [
    "plt.figure()\n",
    "plt.loglog(eps_vals, start_vals, '.')\n",
    "\n",
    "plt.figure()\n",
    "plt.loglog(eps_vals[:-1], end_vals[:-1], '.')"
   ]
  },
  {
   "cell_type": "code",
   "execution_count": 226,
   "metadata": {},
   "outputs": [
    {
     "data": {
      "text/plain": [
       "[<matplotlib.lines.Line2D at 0x7f913af91820>]"
      ]
     },
     "execution_count": 226,
     "metadata": {},
     "output_type": "execute_result"
    },
    {
     "data": {
      "image/png": "[encoded data removed]",
      "text/plain": [
       "<Figure size 432x288 with 1 Axes>"
      ]
     },
     "metadata": {
      "needs_background": "light"
     },
     "output_type": "display_data"
    }
   ],
   "source": [
    "eps_vals = np.logspace(-3, -1, 60)\n",
    "fraction_neighbors = list()\n",
    "for eps in eps_vals:\n",
    "    dist_mat_bin = np.copy(dist_mat_min < eps).astype(int)\n",
    "    frac_n = np.sum(dist_mat_bin) / float(dist_mat_bin.size)\n",
    "    fraction_neighbors.append(frac_n)\n",
    "    \n",
    "plt.loglog(eps_vals, fraction_neighbors, '.')"
   ]
  },
  {
   "cell_type": "code",
   "execution_count": null,
   "metadata": {},
   "outputs": [
    {
     "data": {
      "text/plain": [
       "[<matplotlib.lines.Line2D at 0x7f92b8b92310>]"
      ]
     },
     "execution_count": 6,
     "metadata": {},
     "output_type": "execute_result"
    },
    {
     "data": {
      "image/png": "[encoded data removed]",
      "text/plain": [
       "<Figure size 432x288 with 1 Axes>"
      ]
     },
     "metadata": {
      "needs_background": "light"
     },
     "output_type": "display_data"
    }
   ],
   "source": [
    "plt.plot(guide_attractor_set[0][:, 0], guide_attractor_set[0][:, 1],'.')\n",
    "# plt.plot(guide_attractor[:, 0] + 0.05*np.random.random(guide_attractor[:, 0].shape), \n",
    "#          guide_attractor[:, 1]+ 0.05*np.random.random(guide_attractor[:, 0].shape),\n",
    "#          '.')"
   ]
  },
  {
   "cell_type": "code",
   "execution_count": null,
   "metadata": {},
   "outputs": [],
   "source": [
    "### Make a dist_mat object corresponding to the closest approach at any point?"
   ]
  },
  {
   "cell_type": "markdown",
   "metadata": {
    "tags": []
   },
   "source": [
    "\n",
    "\n",
    "\n",
    "# propagate the fibers\n",
    "\n",
    "# recurrence epsilon: provides evidence that a set of indices lies on a fiber\n",
    "# pooling: combine all recurrences together\n",
    "\n",
    "# Alternative: a voting rule: \n",
    "# an index only lies on the fiber if it occurs in at least x% of the time relative to random chance\n",
    "\n",
    "# correlation sum: the fraction of pairs whose distance is smaller than r\n",
    "\n",
    "\n",
    "What is the union-find operation doing? It's associating indices which might not otherwise associate. So it's different than a clustering on the distance matrix\n",
    "+ If i and k co-occur at a time t, and k and j co-occur at a time t', then i, j, k will end up in the same equivalence class, regardless of t - t' \n",
    "+ The other neighbors of a point are like the features\n",
    "+ so want to define a fuzzy set\n",
    "\n",
    "Machine learning for set assignment: is this just classification of each index?\n",
    "\n",
    "\n",
    "The next step will be classifying indices based on an unordered set of set barcodes\n",
    "\n",
    "\n",
    "Newman-Girvan is very expensive for large graphs. What about Louvain?"
   ]
  },
  {
   "cell_type": "code",
   "execution_count": null,
   "metadata": {},
   "outputs": [
    {
     "data": {
      "text/plain": [
       "0.9746252894413487"
      ]
     },
     "execution_count": 19,
     "metadata": {},
     "output_type": "execute_result"
    }
   ],
   "source": [
    "sparsity(dist_mat_bin)"
   ]
  },
  {
   "cell_type": "code",
   "execution_count": null,
   "metadata": {},
   "outputs": [
    {
     "data": {
      "text/plain": [
       "0.8255735088680424"
      ]
     },
     "execution_count": 21,
     "metadata": {},
     "output_type": "execute_result"
    }
   ],
   "source": [
    "aa = adjmat_from_associations(dist_mat_bin)\n",
    "sparsity(aa)"
   ]
  },
  {
   "cell_type": "code",
   "execution_count": null,
   "metadata": {},
   "outputs": [
    {
     "data": {
      "image/png": "[encoded data removed]",
      "text/plain": [
       "<Figure size 432x288 with 1 Axes>"
      ]
     },
     "metadata": {
      "needs_background": "light"
     },
     "output_type": "display_data"
    }
   ],
   "source": [
    "all_wheres = list()\n",
    "for item in dist_mat_bin:\n",
    "    all_wheres.append(np.where(item)[0])\n",
    "plt.hist(np.hstack(all_wheres), 100);"
   ]
  },
  {
   "cell_type": "code",
   "execution_count": null,
   "metadata": {},
   "outputs": [
    {
     "data": {
      "image/png": "[encoded data removed]",
      "text/plain": [
       "<Figure size 432x288 with 1 Axes>"
      ]
     },
     "metadata": {
      "needs_background": "light"
     },
     "output_type": "display_data"
    }
   ],
   "source": [
    "random_mat = (np.random.random(dist_mat_bin.shape) > sparsity(dist_mat_bin)).astype(int)\n",
    "sparsity(random_mat)\n",
    "\n",
    "all_wheres = list()\n",
    "for item in random_mat:\n",
    "    all_wheres.append(np.where(item)[0])\n",
    "plt.hist(np.hstack(all_wheres), 100);"
   ]
  },
  {
   "cell_type": "code",
   "execution_count": null,
   "metadata": {},
   "outputs": [
    {
     "name": "stdout",
     "output_type": "stream",
     "text": [
      "0.04936624416277513\n"
     ]
    }
   ],
   "source": [
    "naive_sparsity = 1 - (n * ave_clique_links)/n**2\n",
    "print(naive_sparsity)"
   ]
  },
  {
   "cell_type": "code",
   "execution_count": null,
   "metadata": {},
   "outputs": [
    {
     "data": {
      "text/plain": [
       "1.0"
      ]
     },
     "execution_count": 55,
     "metadata": {},
     "output_type": "execute_result"
    }
   ],
   "source": [
    "log(prob_selected) = log(ave_clique_links) - 2log(n)\n",
    "# log(prob_not_selected) = log(1 - prob_selected**n)\n",
    "log(prob_not_selected) = - prob_selected**n # stirling\n",
    "log(expected_zeros) = 2 log(n) + log(prob_not_selected)\n",
    "log_expected_sparsity = log(expected_zeros) - 2 log(n)\n",
    "\n"
   ]
  },
  {
   "cell_type": "code",
   "execution_count": null,
   "metadata": {},
   "outputs": [
    {
     "name": "stdout",
     "output_type": "stream",
     "text": [
      "0.08891608157497513\n"
     ]
    }
   ],
   "source": [
    "pval = 1 - sparsity(dist_mat_bin) # probabilty of an element being one\n",
    "n = dist_mat_bin.shape[0]\n",
    "ave_nodes_row = int(n * pval)\n",
    "ave_clique_links = int((1/2) * ave_nodes_row * (ave_nodes_row - 1))\n",
    "\n",
    "prob_selected = 2 * ave_clique_links / (n * (n-1))\n",
    "prob_not_selected = (1 - prob_selected)**n # perform n replicates\n",
    "# expected_zeros = n**2 * prob_not_selected\n",
    "expected_sparsity = prob_not_selected\n",
    "\n",
    "print(expected_sparsity)"
   ]
  },
  {
   "cell_type": "code",
   "execution_count": 193,
   "metadata": {},
   "outputs": [
    {
     "data": {
      "text/plain": [
       "79"
      ]
     },
     "execution_count": 193,
     "metadata": {},
     "output_type": "execute_result"
    }
   ],
   "source": []
  },
  {
   "cell_type": "code",
   "execution_count": 196,
   "metadata": {},
   "outputs": [
    {
     "data": {
      "text/plain": [
       "0.1463045632823483"
      ]
     },
     "execution_count": 196,
     "metadata": {},
     "output_type": "execute_result"
    }
   ],
   "source": [
    "random_mat = np.zeros_like(dist_mat_bin)\n",
    "for i in range(n):\n",
    "    nodes_row = np.random.randint(ave_nodes_row - 20, ave_nodes_row + 20)\n",
    "    qq = itertools.combinations(\n",
    "        np.random.choice(range(n), \n",
    "                         nodes_row, \n",
    "                         replace=False\n",
    "                        ), 2)\n",
    "    for p, q in qq:\n",
    "        random_mat[p, q] = 1\n",
    "        random_mat[q, p] = 1\n",
    "        \n",
    "#     for j in range(ave_clique_links):\n",
    "#         q = np.random.randint(n)\n",
    "#         p = np.random.randint(q, n)\n",
    "#         random_mat[p, q] = 1\n",
    "#         random_mat[q, p] = 1\n",
    "        \n",
    "sparsity(random_mat)"
   ]
  },
  {
   "cell_type": "code",
   "execution_count": 202,
   "metadata": {},
   "outputs": [
    {
     "name": "stdout",
     "output_type": "stream",
     "text": [
      "3625.447631754503\n",
      "2485.0\n"
     ]
    }
   ],
   "source": [
    "all_node_counts = list()\n",
    "for row in dist_mat_bin:\n",
    "    nn = np.sum(row)\n",
    "    all_node_counts.append(nn * (nn - 1) / 2)\n",
    "print(np.mean(all_node_counts))\n",
    "print(np.median(all_node_counts))"
   ]
  },
  {
   "cell_type": "code",
   "execution_count": 203,
   "metadata": {},
   "outputs": [
    {
     "data": {
      "text/plain": [
       "2850"
      ]
     },
     "execution_count": 203,
     "metadata": {},
     "output_type": "execute_result"
    }
   ],
   "source": [
    "ave_clique_links"
   ]
  },
  {
   "cell_type": "code",
   "execution_count": 184,
   "metadata": {},
   "outputs": [
    {
     "name": "stdout",
     "output_type": "stream",
     "text": [
      "2850\n",
      "2850\n"
     ]
    }
   ],
   "source": [
    "qq = itertools.combinations(\n",
    "        np.random.choice(range(n), \n",
    "                         ave_nodes_row, \n",
    "                         replace=False\n",
    "                        ), 2)\n",
    "print(len(list(qq)))\n",
    "print(ave_clique_links)"
   ]
  },
  {
   "cell_type": "code",
   "execution_count": 185,
   "metadata": {},
   "outputs": [
    {
     "data": {
      "text/plain": [
       "0.0003170893114867328"
      ]
     },
     "execution_count": 185,
     "metadata": {},
     "output_type": "execute_result"
    }
   ],
   "source": [
    "2850/n**2"
   ]
  },
  {
   "cell_type": "code",
   "execution_count": null,
   "metadata": {},
   "outputs": [
    {
     "data": {
      "text/plain": [
       "1.0"
      ]
     },
     "execution_count": 145,
     "metadata": {},
     "output_type": "execute_result"
    }
   ],
   "source": [
    "np.min([1, 3, 4,5, np.inf])"
   ]
  },
  {
   "cell_type": "code",
   "execution_count": 10,
   "metadata": {},
   "outputs": [
    {
     "name": "stdout",
     "output_type": "stream",
     "text": [
      "4\n",
      "5\n",
      "3\n",
      "8\n",
      "9\n",
      "0 1 4 5 3 8 9 "
     ]
    }
   ],
   "source": [
    "class ListNode:\n",
    "    def __init__(self, val=0, nxt=None):\n",
    "        self.val = val\n",
    "        self.next = nxt\n",
    "\n",
    "        \n",
    "def make_linked_list(a):\n",
    "    dummy = ListNode()\n",
    "    out = ListNode(a[0])\n",
    "    dummy.next = out\n",
    "    for item in a[1:]:\n",
    "        print(item)\n",
    "        node = ListNode(item)\n",
    "        out.next = node\n",
    "        out = out.next\n",
    "    return dummy.next\n",
    "\n",
    "def print_list(head0):\n",
    "    head = ListNode() # copy\n",
    "    head.next = head0\n",
    "    while head:\n",
    "        print(head.val, end=\" \")\n",
    "        head = head.next\n",
    "\n",
    "\n",
    "aa = [1,4,5,3,8,9]\n",
    "qq = make_linked_list(aa)\n",
    "        \n",
    "print_list(qq) "
   ]
  },
  {
   "cell_type": "code",
   "execution_count": null,
   "metadata": {},
   "outputs": [],
   "source": []
  },
  {
   "cell_type": "code",
   "execution_count": null,
   "metadata": {},
   "outputs": [],
   "source": []
  },
  {
   "cell_type": "code",
   "execution_count": null,
   "metadata": {},
   "outputs": [],
   "source": []
  }
 ],
 "metadata": {
  "kernelspec": {
   "display_name": "Python 3 (ipykernel)",
   "language": "python",
   "name": "python3"
  },
  "language_info": {
   "codemirror_mode": {
    "name": "ipython",
    "version": 3
   },
   "file_extension": ".py",
   "mimetype": "text/x-python",
   "name": "python",
   "nbconvert_exporter": "python",
   "pygments_lexer": "ipython3",
   "version": "3.8.11"
  },
  "toc-autonumbering": true,
  "toc-showcode": true,
  "toc-showmarkdowntxt": true
 },
 "nbformat": 4,
 "nbformat_minor": 4
}
